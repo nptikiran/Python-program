{
  "nbformat": 4,
  "nbformat_minor": 0,
  "metadata": {
    "colab": {
      "name": "MentalHealthAnalysis.ipynb",
      "provenance": [],
      "authorship_tag": "ABX9TyNu/OfhT+CKNm0LOlph7Qnh",
      "include_colab_link": true
    },
    "kernelspec": {
      "name": "python3",
      "display_name": "Python 3"
    },
    "language_info": {
      "name": "python"
    }
  },
  "cells": [
    {
      "cell_type": "markdown",
      "metadata": {
        "id": "view-in-github",
        "colab_type": "text"
      },
      "source": [
        "<a href=\"https://colab.research.google.com/github/nptikiran/Python-program/blob/main/MentalHealthAnalysis.ipynb\" target=\"_parent\"><img src=\"https://colab.research.google.com/assets/colab-badge.svg\" alt=\"Open In Colab\"/></a>"
      ]
    },
    {
      "cell_type": "markdown",
      "metadata": {
        "id": "jOFUHcX4d1KC"
      },
      "source": [
        "## Import libraries"
      ]
    },
    {
      "cell_type": "code",
      "metadata": {
        "id": "wqCNrTTVdpBh"
      },
      "source": [
        "#Import libraries\n",
        "import numpy as np \n",
        "import pandas as pd \n",
        "import matplotlib.pyplot as plt\n",
        "import seaborn as sns\n",
        "from scipy import stats\n",
        "from scipy.stats import randint\n",
        "from sklearn.model_selection import train_test_split\n",
        "from sklearn import preprocessing\n",
        "from sklearn.datasets import make_classification\n",
        "from sklearn.preprocessing import binarize, LabelEncoder, MinMaxScaler"
      ],
      "execution_count": 1,
      "outputs": []
    },
    {
      "cell_type": "markdown",
      "metadata": {
        "id": "CwGoRIQHd4gf"
      },
      "source": [
        "##Reading and cleanning data"
      ]
    },
    {
      "cell_type": "code",
      "metadata": {
        "id": "NfPXFAyUdzIu"
      },
      "source": [
        "df_MHdata=pd.read_csv(\"/content/Mental Health Data.csv\")"
      ],
      "execution_count": 2,
      "outputs": []
    },
    {
      "cell_type": "code",
      "metadata": {
        "colab": {
          "base_uri": "https://localhost:8080/",
          "height": 554
        },
        "id": "q5C9KJaReCPN",
        "outputId": "2a3ec1d9-e295-4fea-ba85-df8d04428c5d"
      },
      "source": [
        "## checking the dataframe\n",
        "df_MHdata.head(n=3)"
      ],
      "execution_count": 3,
      "outputs": [
        {
          "output_type": "execute_result",
          "data": {
            "text/html": [
              "<div>\n",
              "<style scoped>\n",
              "    .dataframe tbody tr th:only-of-type {\n",
              "        vertical-align: middle;\n",
              "    }\n",
              "\n",
              "    .dataframe tbody tr th {\n",
              "        vertical-align: top;\n",
              "    }\n",
              "\n",
              "    .dataframe thead th {\n",
              "        text-align: right;\n",
              "    }\n",
              "</style>\n",
              "<table border=\"1\" class=\"dataframe\">\n",
              "  <thead>\n",
              "    <tr style=\"text-align: right;\">\n",
              "      <th></th>\n",
              "      <th>Are you self-employed?</th>\n",
              "      <th>How many employees does your company or organization have?</th>\n",
              "      <th>Is your employer primarily a tech company/organization?</th>\n",
              "      <th>Is your primary role within your company related to tech/IT?</th>\n",
              "      <th>Does your employer provide mental health benefits as part of healthcare coverage?</th>\n",
              "      <th>Do you know the options for mental health care available under your employer-provided coverage?</th>\n",
              "      <th>Has your employer ever formally discussed mental health (for example, as part of a wellness campaign or other official communication)?</th>\n",
              "      <th>Does your employer offer resources to learn more about mental health concerns and options for seeking help?</th>\n",
              "      <th>If a mental health issue prompted you to request a medical leave from work, asking for that leave would be:</th>\n",
              "      <th>Would you feel comfortable discussing a mental health disorder with your coworkers?</th>\n",
              "      <th>Do you feel that your employer takes mental health as seriously as physical health?</th>\n",
              "      <th>Do you know local or online resources to seek help for a mental health disorder?</th>\n",
              "      <th>Do you believe your productivity is ever affected by a mental health issue?</th>\n",
              "      <th>If yes, what percentage of your work time (time performing primary or secondary job functions) is affected by a mental health issue?</th>\n",
              "      <th>How willing would you be to share with friends and family that you have a mental illness?</th>\n",
              "      <th>Do you have a family history of mental illness?</th>\n",
              "      <th>Have you had a mental health disorder in the past?</th>\n",
              "      <th>Do you currently have a mental health disorder?</th>\n",
              "      <th>Have you been diagnosed with a mental health condition by a medical professional?</th>\n",
              "      <th>If so, what condition(s) were you diagnosed with?</th>\n",
              "      <th>Have you ever sought treatment for a mental health issue from a mental health professional?</th>\n",
              "      <th>If you have a mental health issue, do you feel that it interferes with your work when being treated effectively?</th>\n",
              "      <th>If you have a mental health issue, do you feel that it interferes with your work when NOT being treated effectively?</th>\n",
              "      <th>What is your age?</th>\n",
              "      <th>What is your gender?</th>\n",
              "      <th>What country do you live in?</th>\n",
              "      <th>What US state or territory do you live in?</th>\n",
              "      <th>What country do you work in?</th>\n",
              "      <th>What US state or territory do you work in?</th>\n",
              "      <th>Which of the following best describes your work position?</th>\n",
              "      <th>Do you work remotely?</th>\n",
              "    </tr>\n",
              "  </thead>\n",
              "  <tbody>\n",
              "    <tr>\n",
              "      <th>0</th>\n",
              "      <td>0</td>\n",
              "      <td>1 to 5</td>\n",
              "      <td>1.0</td>\n",
              "      <td>NaN</td>\n",
              "      <td>Yes</td>\n",
              "      <td>Yes</td>\n",
              "      <td>No</td>\n",
              "      <td>No</td>\n",
              "      <td>Somewhat difficult</td>\n",
              "      <td>Maybe</td>\n",
              "      <td>I don't know</td>\n",
              "      <td>NaN</td>\n",
              "      <td>NaN</td>\n",
              "      <td>NaN</td>\n",
              "      <td>Somewhat open</td>\n",
              "      <td>Yes</td>\n",
              "      <td>Yes</td>\n",
              "      <td>No</td>\n",
              "      <td>Yes</td>\n",
              "      <td>Mood Disorder (Depression, Bipolar Disorder, e...</td>\n",
              "      <td>1</td>\n",
              "      <td>Sometimes</td>\n",
              "      <td>Often</td>\n",
              "      <td>33</td>\n",
              "      <td>Male</td>\n",
              "      <td>Canada</td>\n",
              "      <td>NaN</td>\n",
              "      <td>Canada</td>\n",
              "      <td>NaN</td>\n",
              "      <td>Back-end Developer</td>\n",
              "      <td>Sometimes</td>\n",
              "    </tr>\n",
              "    <tr>\n",
              "      <th>1</th>\n",
              "      <td>0</td>\n",
              "      <td>1 to 5</td>\n",
              "      <td>1.0</td>\n",
              "      <td>NaN</td>\n",
              "      <td>No</td>\n",
              "      <td>No</td>\n",
              "      <td>No</td>\n",
              "      <td>I don't know</td>\n",
              "      <td>Very easy</td>\n",
              "      <td>Yes</td>\n",
              "      <td>I don't know</td>\n",
              "      <td>NaN</td>\n",
              "      <td>NaN</td>\n",
              "      <td>NaN</td>\n",
              "      <td>Very open</td>\n",
              "      <td>No</td>\n",
              "      <td>Yes</td>\n",
              "      <td>No</td>\n",
              "      <td>Yes</td>\n",
              "      <td>Mood Disorder (Depression, Bipolar Disorder, etc)</td>\n",
              "      <td>1</td>\n",
              "      <td>Not applicable to me</td>\n",
              "      <td>Not applicable to me</td>\n",
              "      <td>40</td>\n",
              "      <td>male</td>\n",
              "      <td>Netherlands</td>\n",
              "      <td>NaN</td>\n",
              "      <td>Netherlands</td>\n",
              "      <td>NaN</td>\n",
              "      <td>Front-end Developer|Back-end Developer</td>\n",
              "      <td>Sometimes</td>\n",
              "    </tr>\n",
              "    <tr>\n",
              "      <th>2</th>\n",
              "      <td>0</td>\n",
              "      <td>1 to 5</td>\n",
              "      <td>1.0</td>\n",
              "      <td>NaN</td>\n",
              "      <td>Yes</td>\n",
              "      <td>Yes</td>\n",
              "      <td>No</td>\n",
              "      <td>I don't know</td>\n",
              "      <td>I don't know</td>\n",
              "      <td>Maybe</td>\n",
              "      <td>I don't know</td>\n",
              "      <td>NaN</td>\n",
              "      <td>NaN</td>\n",
              "      <td>NaN</td>\n",
              "      <td>Somewhat open</td>\n",
              "      <td>No</td>\n",
              "      <td>No</td>\n",
              "      <td>No</td>\n",
              "      <td>No</td>\n",
              "      <td>NaN</td>\n",
              "      <td>0</td>\n",
              "      <td>Not applicable to me</td>\n",
              "      <td>Not applicable to me</td>\n",
              "      <td>21</td>\n",
              "      <td>male</td>\n",
              "      <td>United Kingdom</td>\n",
              "      <td>NaN</td>\n",
              "      <td>United Kingdom</td>\n",
              "      <td>NaN</td>\n",
              "      <td>Back-end Developer|DevOps/SysAdmin</td>\n",
              "      <td>Never</td>\n",
              "    </tr>\n",
              "  </tbody>\n",
              "</table>\n",
              "</div>"
            ],
            "text/plain": [
              "   Are you self-employed?  ... Do you work remotely?\n",
              "0                       0  ...             Sometimes\n",
              "1                       0  ...             Sometimes\n",
              "2                       0  ...                 Never\n",
              "\n",
              "[3 rows x 31 columns]"
            ]
          },
          "metadata": {},
          "execution_count": 3
        }
      ]
    },
    {
      "cell_type": "code",
      "metadata": {
        "colab": {
          "base_uri": "https://localhost:8080/"
        },
        "id": "oDdKq77UeFUO",
        "outputId": "3eb4dc5d-e85d-4d1a-b3d5-929859f9d0b5"
      },
      "source": [
        "## shape of the dataframe\n",
        "df_MHdata.shape"
      ],
      "execution_count": 4,
      "outputs": [
        {
          "output_type": "execute_result",
          "data": {
            "text/plain": [
              "(1433, 31)"
            ]
          },
          "metadata": {},
          "execution_count": 4
        }
      ]
    },
    {
      "cell_type": "code",
      "metadata": {
        "id": "mxqUs6akeI74"
      },
      "source": [
        "## Rename the columns\n",
        "a=list(df_MHdata.columns)\n",
        "b=['self_employed','no_of_employees','tech_company','role_IT','mental_healthcare_coverage',\n",
        "  'knowledge_about_mental_healthcare_options_workplace','employer_discussed_mental_health ',\n",
        "  'employer_offer_resources_to_learn_about_mental_health','medical_leave_from_work ',\n",
        "  'comfortable_discussing_with_coworkers','employer_take_mental_health_seriously',\n",
        "   'knowledge_of_local_online_resources ','productivity_affected_by_mental_health ',\n",
        "   'percentage_work_time_affected_mental_health','openess_of_family_friends',\n",
        "  'family_history_mental_illness','mental_health_disorder_past',\n",
        "   'currently_mental_health_disorder','diagnosed_mental_health_condition',\n",
        "   'type_of_disorder','treatment_from_professional',\n",
        "   'while_effective_treatment_mental_health_issue_interferes_work',\n",
        "  'while_not_effective_treatment_interferes_work ','age','gender','country','US state',\n",
        "  'country work ','US state work','role_in_company','work_remotely','']\n",
        "  \n",
        "for i,j in zip(a,b):\n",
        "    df_MHdata.rename(columns={i:j},inplace=True)"
      ],
      "execution_count": 5,
      "outputs": []
    },
    {
      "cell_type": "code",
      "metadata": {
        "colab": {
          "base_uri": "https://localhost:8080/"
        },
        "id": "PWum5BDseS2u",
        "outputId": "e8f0648b-d83b-4951-d50a-a978753c16c2"
      },
      "source": [
        "## information of Dataframe\n",
        "df_MHdata.info()"
      ],
      "execution_count": 6,
      "outputs": [
        {
          "output_type": "stream",
          "name": "stdout",
          "text": [
            "<class 'pandas.core.frame.DataFrame'>\n",
            "RangeIndex: 1433 entries, 0 to 1432\n",
            "Data columns (total 31 columns):\n",
            " #   Column                                                         Non-Null Count  Dtype  \n",
            "---  ------                                                         --------------  -----  \n",
            " 0   self_employed                                                  1433 non-null   int64  \n",
            " 1   no_of_employees                                                1146 non-null   object \n",
            " 2   tech_company                                                   1146 non-null   float64\n",
            " 3   role_IT                                                        263 non-null    float64\n",
            " 4   mental_healthcare_coverage                                     1146 non-null   object \n",
            " 5   knowledge_about_mental_healthcare_options_workplace            1013 non-null   object \n",
            " 6   employer_discussed_mental_health                               1146 non-null   object \n",
            " 7   employer_offer_resources_to_learn_about_mental_health          1146 non-null   object \n",
            " 8   medical_leave_from_work                                        1146 non-null   object \n",
            " 9   comfortable_discussing_with_coworkers                          1146 non-null   object \n",
            " 10  employer_take_mental_health_seriously                          1146 non-null   object \n",
            " 11  knowledge_of_local_online_resources                            287 non-null    object \n",
            " 12  productivity_affected_by_mental_health                         287 non-null    object \n",
            " 13  percentage_work_time_affected_mental_health                    204 non-null    object \n",
            " 14  openess_of_family_friends                                      1433 non-null   object \n",
            " 15  family_history_mental_illness                                  1433 non-null   object \n",
            " 16  mental_health_disorder_past                                    1433 non-null   object \n",
            " 17  currently_mental_health_disorder                               1433 non-null   object \n",
            " 18  diagnosed_mental_health_condition                              1433 non-null   object \n",
            " 19  type_of_disorder                                               711 non-null    object \n",
            " 20  treatment_from_professional                                    1433 non-null   int64  \n",
            " 21  while_effective_treatment_mental_health_issue_interferes_work  1433 non-null   object \n",
            " 22  while_not_effective_treatment_interferes_work                  1433 non-null   object \n",
            " 23  age                                                            1433 non-null   int64  \n",
            " 24  gender                                                         1430 non-null   object \n",
            " 25  country                                                        1433 non-null   object \n",
            " 26  US state                                                       840 non-null    object \n",
            " 27  country work                                                   1433 non-null   object \n",
            " 28  US state work                                                  851 non-null    object \n",
            " 29  role_in_company                                                1433 non-null   object \n",
            " 30  work_remotely                                                  1433 non-null   object \n",
            "dtypes: float64(2), int64(3), object(26)\n",
            "memory usage: 347.2+ KB\n"
          ]
        }
      ]
    },
    {
      "cell_type": "code",
      "metadata": {
        "colab": {
          "base_uri": "https://localhost:8080/",
          "height": 1000
        },
        "id": "4QAjS6PnebWD",
        "outputId": "e0eea98c-2ad0-4286-9ce9-3cb9b3764510"
      },
      "source": [
        "## No of Missing values in different Columns\n",
        "columns=df_MHdata.columns\n",
        "pd.DataFrame({'no of missing values':df_MHdata.isnull().sum()})"
      ],
      "execution_count": 7,
      "outputs": [
        {
          "output_type": "execute_result",
          "data": {
            "text/html": [
              "<div>\n",
              "<style scoped>\n",
              "    .dataframe tbody tr th:only-of-type {\n",
              "        vertical-align: middle;\n",
              "    }\n",
              "\n",
              "    .dataframe tbody tr th {\n",
              "        vertical-align: top;\n",
              "    }\n",
              "\n",
              "    .dataframe thead th {\n",
              "        text-align: right;\n",
              "    }\n",
              "</style>\n",
              "<table border=\"1\" class=\"dataframe\">\n",
              "  <thead>\n",
              "    <tr style=\"text-align: right;\">\n",
              "      <th></th>\n",
              "      <th>no of missing values</th>\n",
              "    </tr>\n",
              "  </thead>\n",
              "  <tbody>\n",
              "    <tr>\n",
              "      <th>self_employed</th>\n",
              "      <td>0</td>\n",
              "    </tr>\n",
              "    <tr>\n",
              "      <th>no_of_employees</th>\n",
              "      <td>287</td>\n",
              "    </tr>\n",
              "    <tr>\n",
              "      <th>tech_company</th>\n",
              "      <td>287</td>\n",
              "    </tr>\n",
              "    <tr>\n",
              "      <th>role_IT</th>\n",
              "      <td>1170</td>\n",
              "    </tr>\n",
              "    <tr>\n",
              "      <th>mental_healthcare_coverage</th>\n",
              "      <td>287</td>\n",
              "    </tr>\n",
              "    <tr>\n",
              "      <th>knowledge_about_mental_healthcare_options_workplace</th>\n",
              "      <td>420</td>\n",
              "    </tr>\n",
              "    <tr>\n",
              "      <th>employer_discussed_mental_health</th>\n",
              "      <td>287</td>\n",
              "    </tr>\n",
              "    <tr>\n",
              "      <th>employer_offer_resources_to_learn_about_mental_health</th>\n",
              "      <td>287</td>\n",
              "    </tr>\n",
              "    <tr>\n",
              "      <th>medical_leave_from_work</th>\n",
              "      <td>287</td>\n",
              "    </tr>\n",
              "    <tr>\n",
              "      <th>comfortable_discussing_with_coworkers</th>\n",
              "      <td>287</td>\n",
              "    </tr>\n",
              "    <tr>\n",
              "      <th>employer_take_mental_health_seriously</th>\n",
              "      <td>287</td>\n",
              "    </tr>\n",
              "    <tr>\n",
              "      <th>knowledge_of_local_online_resources</th>\n",
              "      <td>1146</td>\n",
              "    </tr>\n",
              "    <tr>\n",
              "      <th>productivity_affected_by_mental_health</th>\n",
              "      <td>1146</td>\n",
              "    </tr>\n",
              "    <tr>\n",
              "      <th>percentage_work_time_affected_mental_health</th>\n",
              "      <td>1229</td>\n",
              "    </tr>\n",
              "    <tr>\n",
              "      <th>openess_of_family_friends</th>\n",
              "      <td>0</td>\n",
              "    </tr>\n",
              "    <tr>\n",
              "      <th>family_history_mental_illness</th>\n",
              "      <td>0</td>\n",
              "    </tr>\n",
              "    <tr>\n",
              "      <th>mental_health_disorder_past</th>\n",
              "      <td>0</td>\n",
              "    </tr>\n",
              "    <tr>\n",
              "      <th>currently_mental_health_disorder</th>\n",
              "      <td>0</td>\n",
              "    </tr>\n",
              "    <tr>\n",
              "      <th>diagnosed_mental_health_condition</th>\n",
              "      <td>0</td>\n",
              "    </tr>\n",
              "    <tr>\n",
              "      <th>type_of_disorder</th>\n",
              "      <td>722</td>\n",
              "    </tr>\n",
              "    <tr>\n",
              "      <th>treatment_from_professional</th>\n",
              "      <td>0</td>\n",
              "    </tr>\n",
              "    <tr>\n",
              "      <th>while_effective_treatment_mental_health_issue_interferes_work</th>\n",
              "      <td>0</td>\n",
              "    </tr>\n",
              "    <tr>\n",
              "      <th>while_not_effective_treatment_interferes_work</th>\n",
              "      <td>0</td>\n",
              "    </tr>\n",
              "    <tr>\n",
              "      <th>age</th>\n",
              "      <td>0</td>\n",
              "    </tr>\n",
              "    <tr>\n",
              "      <th>gender</th>\n",
              "      <td>3</td>\n",
              "    </tr>\n",
              "    <tr>\n",
              "      <th>country</th>\n",
              "      <td>0</td>\n",
              "    </tr>\n",
              "    <tr>\n",
              "      <th>US state</th>\n",
              "      <td>593</td>\n",
              "    </tr>\n",
              "    <tr>\n",
              "      <th>country work</th>\n",
              "      <td>0</td>\n",
              "    </tr>\n",
              "    <tr>\n",
              "      <th>US state work</th>\n",
              "      <td>582</td>\n",
              "    </tr>\n",
              "    <tr>\n",
              "      <th>role_in_company</th>\n",
              "      <td>0</td>\n",
              "    </tr>\n",
              "    <tr>\n",
              "      <th>work_remotely</th>\n",
              "      <td>0</td>\n",
              "    </tr>\n",
              "  </tbody>\n",
              "</table>\n",
              "</div>"
            ],
            "text/plain": [
              "                                                    no of missing values\n",
              "self_employed                                                          0\n",
              "no_of_employees                                                      287\n",
              "tech_company                                                         287\n",
              "role_IT                                                             1170\n",
              "mental_healthcare_coverage                                           287\n",
              "knowledge_about_mental_healthcare_options_workp...                   420\n",
              "employer_discussed_mental_health                                     287\n",
              "employer_offer_resources_to_learn_about_mental_...                   287\n",
              "medical_leave_from_work                                              287\n",
              "comfortable_discussing_with_coworkers                                287\n",
              "employer_take_mental_health_seriously                                287\n",
              "knowledge_of_local_online_resources                                 1146\n",
              "productivity_affected_by_mental_health                              1146\n",
              "percentage_work_time_affected_mental_health                         1229\n",
              "openess_of_family_friends                                              0\n",
              "family_history_mental_illness                                          0\n",
              "mental_health_disorder_past                                            0\n",
              "currently_mental_health_disorder                                       0\n",
              "diagnosed_mental_health_condition                                      0\n",
              "type_of_disorder                                                     722\n",
              "treatment_from_professional                                            0\n",
              "while_effective_treatment_mental_health_issue_i...                     0\n",
              "while_not_effective_treatment_interferes_work                          0\n",
              "age                                                                    0\n",
              "gender                                                                 3\n",
              "country                                                                0\n",
              "US state                                                             593\n",
              "country work                                                           0\n",
              "US state work                                                        582\n",
              "role_in_company                                                        0\n",
              "work_remotely                                                          0"
            ]
          },
          "metadata": {},
          "execution_count": 7
        }
      ]
    },
    {
      "cell_type": "code",
      "metadata": {
        "id": "judN7KT5ee5l"
      },
      "source": [
        "## copy the dataset in df1\n",
        "df1=df_MHdata.copy()"
      ],
      "execution_count": 8,
      "outputs": []
    },
    {
      "cell_type": "code",
      "metadata": {
        "id": "FVHf_Uu3eh5e"
      },
      "source": [
        "## Drop the unnecessary colums \n",
        "cols = ['role_IT','knowledge_of_local_online_resources ',\n",
        "        'productivity_affected_by_mental_health ',\n",
        "        'percentage_work_time_affected_mental_health']\n",
        "df_red=df1.drop(cols,axis=1)"
      ],
      "execution_count": 9,
      "outputs": []
    },
    {
      "cell_type": "markdown",
      "metadata": {
        "id": "xC1YAO06eqzv"
      },
      "source": [
        "### Cleanning different column"
      ]
    },
    {
      "cell_type": "code",
      "metadata": {
        "colab": {
          "base_uri": "https://localhost:8080/"
        },
        "id": "nyN_dbcMei58",
        "outputId": "3adc0d5a-930a-4879-abea-e06f4fc77b0b"
      },
      "source": [
        "## No of Employees column\n",
        "df_red.no_of_employees.unique()"
      ],
      "execution_count": 10,
      "outputs": [
        {
          "output_type": "execute_result",
          "data": {
            "text/plain": [
              "array(['1 to 5', '6 to 25', '26-99', '100-500', '26-100', '500-1000',\n",
              "       'More than 1000', nan], dtype=object)"
            ]
          },
          "metadata": {},
          "execution_count": 10
        }
      ]
    },
    {
      "cell_type": "code",
      "metadata": {
        "id": "xdNAD4CKevUG"
      },
      "source": [
        "df_red.no_of_employees.replace(to_replace=['1 to 5', '6 to 25','More than 1000','26-99'],\n",
        "                                value=['1-5','6-25','>1000','26-100'],inplace=True)"
      ],
      "execution_count": 11,
      "outputs": []
    },
    {
      "cell_type": "code",
      "metadata": {
        "colab": {
          "base_uri": "https://localhost:8080/"
        },
        "id": "rUSMdbk5eywM",
        "outputId": "62d046c5-f1dd-4c85-e560-579b1125d5c9"
      },
      "source": [
        "df_red.no_of_employees.value_counts()"
      ],
      "execution_count": 12,
      "outputs": [
        {
          "output_type": "execute_result",
          "data": {
            "text/plain": [
              "26-100      326\n",
              ">1000       256\n",
              "100-500     248\n",
              "6-25        176\n",
              "500-1000     80\n",
              "1-5          60\n",
              "Name: no_of_employees, dtype: int64"
            ]
          },
          "metadata": {},
          "execution_count": 12
        }
      ]
    },
    {
      "cell_type": "code",
      "metadata": {
        "colab": {
          "base_uri": "https://localhost:8080/"
        },
        "id": "phF6c9rUe1FT",
        "outputId": "452f2c68-d54f-4e24-bac9-fefa55d45c71"
      },
      "source": [
        "## Cleaning Mental Health Care coverage column\n",
        "df_red.mental_healthcare_coverage.unique()"
      ],
      "execution_count": 13,
      "outputs": [
        {
          "output_type": "execute_result",
          "data": {
            "text/plain": [
              "array(['Yes', 'No', \"I don't know\", 'Not eligible for coverage / N/A',\n",
              "       nan], dtype=object)"
            ]
          },
          "metadata": {},
          "execution_count": 13
        }
      ]
    },
    {
      "cell_type": "code",
      "metadata": {
        "colab": {
          "base_uri": "https://localhost:8080/"
        },
        "id": "aLk_uUtAe4MF",
        "outputId": "f6d7105d-270d-41c5-9e66-2e694486d876"
      },
      "source": [
        "df_red.mental_healthcare_coverage.replace(to_replace=['Not eligible for coverage / N/A'],\n",
        "                                value='No',inplace=True)\n",
        "df_red.mental_healthcare_coverage.unique()"
      ],
      "execution_count": 14,
      "outputs": [
        {
          "output_type": "execute_result",
          "data": {
            "text/plain": [
              "array(['Yes', 'No', \"I don't know\", nan], dtype=object)"
            ]
          },
          "metadata": {},
          "execution_count": 14
        }
      ]
    },
    {
      "cell_type": "code",
      "metadata": {
        "colab": {
          "base_uri": "https://localhost:8080/"
        },
        "id": "VwMQZx3De6HA",
        "outputId": "2f81b0d2-6ca6-4688-e11a-fb586c3bf290"
      },
      "source": [
        "## Cleaning openess_of_family_friends column\n",
        "df_red.openess_of_family_friends.unique()"
      ],
      "execution_count": 15,
      "outputs": [
        {
          "output_type": "execute_result",
          "data": {
            "text/plain": [
              "array(['Somewhat open', 'Very open', 'Somewhat not open', 'Neutral',\n",
              "       'Not applicable to me (I do not have a mental illness)',\n",
              "       'Not open at all'], dtype=object)"
            ]
          },
          "metadata": {},
          "execution_count": 15
        }
      ]
    },
    {
      "cell_type": "code",
      "metadata": {
        "colab": {
          "base_uri": "https://localhost:8080/"
        },
        "id": "nt-WITMme-La",
        "outputId": "b6ef787d-318e-4e73-c33d-cbf246ea3c5a"
      },
      "source": [
        "df_red.openess_of_family_friends.replace(to_replace=['Not applicable to me (I do not have a mental illness)']\n",
        "                                          ,value=\"I don't know\",inplace=True)\n",
        "df_red.openess_of_family_friends.unique()"
      ],
      "execution_count": 16,
      "outputs": [
        {
          "output_type": "execute_result",
          "data": {
            "text/plain": [
              "array(['Somewhat open', 'Very open', 'Somewhat not open', 'Neutral',\n",
              "       \"I don't know\", 'Not open at all'], dtype=object)"
            ]
          },
          "metadata": {},
          "execution_count": 16
        }
      ]
    },
    {
      "cell_type": "code",
      "metadata": {
        "id": "8ZliEfDqfCrX"
      },
      "source": [
        "## Cleaning the age column remove outliers\n",
        "med_age = df_red[(df_red['age'] >= 18) | (df_red['age'] <= 75)]['age'].median()\n",
        "df_red['age'].replace(to_replace = df_red[(df_red['age'] < 18) | (df_red['age'] > 75)]['age'].tolist(),\n",
        "                          value = med_age, inplace = True)"
      ],
      "execution_count": 17,
      "outputs": []
    },
    {
      "cell_type": "code",
      "metadata": {
        "colab": {
          "base_uri": "https://localhost:8080/"
        },
        "id": "n33dKd4mfEvU",
        "outputId": "06e420a5-6e08-4663-9b7a-1ef9ab86680f"
      },
      "source": [
        "## Cleaning the gender column\n",
        "df_red.gender.unique()"
      ],
      "execution_count": 18,
      "outputs": [
        {
          "output_type": "execute_result",
          "data": {
            "text/plain": [
              "array(['Male', 'male', 'F', 'Transitioned, M2F', 'Other/Transfeminine',\n",
              "       'M', 'female', 'm', 'Female', 'f', 'non-binary', 'woman', 'male ',\n",
              "       'Male ', 'Bigender', 'Genderfluid (born female)',\n",
              "       'male 9:1 female, roughly', 'Male (cis)', 'Other', 'Sex is male',\n",
              "       'genderqueer', 'Human', 'mail', 'Cis-woman',\n",
              "       'female-bodied; no feelings about gender', 'Transgender woman',\n",
              "       'Genderfluid', 'female ', 'Male/genderqueer', 'fem', 'Nonbinary',\n",
              "       ' Female', 'Female ', 'Genderqueer', nan, 'I identify as female.',\n",
              "       'fm', 'Cis female ', 'female/woman', 'Androgynous', 'man',\n",
              "       'nb masculine', 'Cisgender Female', 'Woman', 'Cis Male',\n",
              "       'Female or Multi-Gender Femme', 'Male.', 'Enby', 'Agender',\n",
              "       'Female (props for making this a freeform field, though)',\n",
              "       'cis man', 'Female assigned at birth ', 'Cis male', 'Man',\n",
              "       'none of your business', 'cis male', 'genderqueer woman', 'Queer',\n",
              "       'Dude', 'Male (trans, FtM)', 'cisdude', 'Genderflux demi-girl',\n",
              "       'Malr', 'mtf', 'Fluid',\n",
              "       \"I'm a man why didn't you make this a drop down question. You should of asked sex? And I would of answered yes please. Seriously how much text can this take? \",\n",
              "       'M|', 'human', 'Unicorn', 'AFAB', 'MALE'], dtype=object)"
            ]
          },
          "metadata": {},
          "execution_count": 18
        }
      ]
    },
    {
      "cell_type": "code",
      "metadata": {
        "id": "6tqSkMTLfKDu"
      },
      "source": [
        "df_red['gender'].replace(to_replace = ['Male', 'male', 'Male ', 'M', 'm',\n",
        "       'man', 'Cis male', 'Male.', 'male 9:1 female, roughly', 'Male (cis)', 'Man', 'Sex is male',\n",
        "       'cis male', 'Malr', 'Dude', \"I'm a man why didn't you make this a drop down question. You should of asked sex? And I would of answered yes please. Seriously how much text can this take? \",\n",
        "       'mail', 'M|', 'Male/genderqueer', 'male ',\n",
        "       'Cis Male', 'Male (trans, FtM)',\n",
        "       'cisdude', 'cis man', 'MALE'], value = 'male', inplace = True)\n",
        "df_red['gender'].replace(to_replace = ['Female', 'female', 'I identify as female.', 'female ',\n",
        "       'Female assigned at birth ', 'F', 'Woman', 'fm', 'f', 'Cis female ', 'Transitioned, M2F',\n",
        "       'Genderfluid (born female)', 'Female or Multi-Gender Femme', 'Female ', 'woman', 'female/woman',\n",
        "       'Cisgender Female', 'fem', 'Female (props for making this a freeform field, though)',\n",
        "       ' Female', 'Cis-woman', 'female-bodied; no feelings about gender',\n",
        "       'AFAB'], value = 'female', inplace = True)\n",
        "df_red['gender'].replace(to_replace = ['Bigender', 'non-binary', 'Other/Transfeminine',\n",
        "       'Androgynous', 'Other', 'nb masculine',\n",
        "       'none of your business', 'genderqueer', 'Human', 'Genderfluid',\n",
        "       'Enby', 'genderqueer woman', 'mtf', 'Queer', 'Agender', 'Fluid',\n",
        "       'Nonbinary', 'human', 'Unicorn', 'Genderqueer',\n",
        "       'Genderflux demi-girl', 'Transgender woman'], value = 'other', inplace = True)"
      ],
      "execution_count": 19,
      "outputs": []
    },
    {
      "cell_type": "code",
      "metadata": {
        "colab": {
          "base_uri": "https://localhost:8080/"
        },
        "id": "3mLCa8E2fMLS",
        "outputId": "61b46b2a-4451-41d9-fcf6-8597bd4c6bfc"
      },
      "source": [
        "df_red.gender.unique()"
      ],
      "execution_count": 20,
      "outputs": [
        {
          "output_type": "execute_result",
          "data": {
            "text/plain": [
              "array(['male', 'female', 'other', nan], dtype=object)"
            ]
          },
          "metadata": {},
          "execution_count": 20
        }
      ]
    },
    {
      "cell_type": "code",
      "metadata": {
        "id": "4ZTX2shVfPkE"
      },
      "source": [
        "## Cleaning the role_in_company\n",
        "tech_list = []\n",
        "tech_list.append(df_red[df_red['role_in_company'].str.contains('Back-end')]['role_in_company'].tolist())\n",
        "tech_list.append(df_red[df_red['role_in_company'].str.contains('Front-end')]['role_in_company'].tolist())\n",
        "tech_list.append(df_red[df_red['role_in_company'].str.contains('Dev')]['role_in_company'].tolist())\n",
        "tech_list.append(df_red[df_red['role_in_company'].str.contains('DevOps')]['role_in_company'].tolist())\n",
        "flat_list = [item for sublist in tech_list for item in sublist]\n",
        "flat_list = list(dict.fromkeys(flat_list))"
      ],
      "execution_count": 22,
      "outputs": []
    },
    {
      "cell_type": "code",
      "metadata": {
        "id": "RXL8YgiWfShy"
      },
      "source": [
        "\n",
        "## Replace tech role=1 and other=0 in a new tech role operation\n",
        "df_red['tech_role']=df_red['role_in_company']\n",
        "df_red['tech_role'].replace(to_replace=flat_list,value=1,inplace=True)\n",
        "remain_list=df_red['tech_role'].unique()[1:]\n",
        "df_red['tech_role'].replace(to_replace=remain_list,value=0,inplace=True)"
      ],
      "execution_count": 23,
      "outputs": []
    },
    {
      "cell_type": "code",
      "metadata": {
        "colab": {
          "base_uri": "https://localhost:8080/"
        },
        "id": "ia5nWnQTfU6v",
        "outputId": "e61b74c9-7fff-49aa-b07d-daa7c24b4443"
      },
      "source": [
        "df_red.tech_role.value_counts()\n"
      ],
      "execution_count": 24,
      "outputs": [
        {
          "output_type": "execute_result",
          "data": {
            "text/plain": [
              "1    1045\n",
              "0     388\n",
              "Name: tech_role, dtype: int64"
            ]
          },
          "metadata": {},
          "execution_count": 24
        }
      ]
    },
    {
      "cell_type": "code",
      "metadata": {
        "id": "cBzQak9gfXYl"
      },
      "source": [
        "df_red=df_red.drop(['role_in_company'],axis=1)    "
      ],
      "execution_count": 25,
      "outputs": []
    },
    {
      "cell_type": "markdown",
      "metadata": {
        "id": "aiTR4q0zfY_i"
      },
      "source": [
        "## Handling missing values"
      ]
    },
    {
      "cell_type": "code",
      "metadata": {
        "id": "BJ96qm-AfbXA"
      },
      "source": [
        "df_rej=pd.concat([df_red['type_of_disorder'],df_red['US state'],df_red['US state work']],axis=1)\n",
        "df_red=df_red.drop(['type_of_disorder','US state','US state work'],axis=1)"
      ],
      "execution_count": 26,
      "outputs": []
    },
    {
      "cell_type": "code",
      "metadata": {
        "id": "Sn7Q5BDqfePO"
      },
      "source": [
        "from sklearn.impute import SimpleImputer\n",
        "imp = SimpleImputer(missing_values=np.nan, strategy='most_frequent')\n",
        "imp.fit(df_red)\n",
        "imp_data=pd.DataFrame(data=imp.transform(df_red),columns=df_red.columns)"
      ],
      "execution_count": 27,
      "outputs": []
    },
    {
      "cell_type": "code",
      "metadata": {
        "colab": {
          "base_uri": "https://localhost:8080/",
          "height": 887
        },
        "id": "Bel7IJsgfghL",
        "outputId": "d4ceaa88-dcd5-4b42-a900-0a0036d32e85"
      },
      "source": [
        "df_eda=pd.concat([imp_data,df_rej],axis=1)\n",
        "df_eda.isnull().sum().to_frame()\n",
        "# "
      ],
      "execution_count": 28,
      "outputs": [
        {
          "output_type": "execute_result",
          "data": {
            "text/html": [
              "<div>\n",
              "<style scoped>\n",
              "    .dataframe tbody tr th:only-of-type {\n",
              "        vertical-align: middle;\n",
              "    }\n",
              "\n",
              "    .dataframe tbody tr th {\n",
              "        vertical-align: top;\n",
              "    }\n",
              "\n",
              "    .dataframe thead th {\n",
              "        text-align: right;\n",
              "    }\n",
              "</style>\n",
              "<table border=\"1\" class=\"dataframe\">\n",
              "  <thead>\n",
              "    <tr style=\"text-align: right;\">\n",
              "      <th></th>\n",
              "      <th>0</th>\n",
              "    </tr>\n",
              "  </thead>\n",
              "  <tbody>\n",
              "    <tr>\n",
              "      <th>self_employed</th>\n",
              "      <td>0</td>\n",
              "    </tr>\n",
              "    <tr>\n",
              "      <th>no_of_employees</th>\n",
              "      <td>0</td>\n",
              "    </tr>\n",
              "    <tr>\n",
              "      <th>tech_company</th>\n",
              "      <td>0</td>\n",
              "    </tr>\n",
              "    <tr>\n",
              "      <th>mental_healthcare_coverage</th>\n",
              "      <td>0</td>\n",
              "    </tr>\n",
              "    <tr>\n",
              "      <th>knowledge_about_mental_healthcare_options_workplace</th>\n",
              "      <td>0</td>\n",
              "    </tr>\n",
              "    <tr>\n",
              "      <th>employer_discussed_mental_health</th>\n",
              "      <td>0</td>\n",
              "    </tr>\n",
              "    <tr>\n",
              "      <th>employer_offer_resources_to_learn_about_mental_health</th>\n",
              "      <td>0</td>\n",
              "    </tr>\n",
              "    <tr>\n",
              "      <th>medical_leave_from_work</th>\n",
              "      <td>0</td>\n",
              "    </tr>\n",
              "    <tr>\n",
              "      <th>comfortable_discussing_with_coworkers</th>\n",
              "      <td>0</td>\n",
              "    </tr>\n",
              "    <tr>\n",
              "      <th>employer_take_mental_health_seriously</th>\n",
              "      <td>0</td>\n",
              "    </tr>\n",
              "    <tr>\n",
              "      <th>openess_of_family_friends</th>\n",
              "      <td>0</td>\n",
              "    </tr>\n",
              "    <tr>\n",
              "      <th>family_history_mental_illness</th>\n",
              "      <td>0</td>\n",
              "    </tr>\n",
              "    <tr>\n",
              "      <th>mental_health_disorder_past</th>\n",
              "      <td>0</td>\n",
              "    </tr>\n",
              "    <tr>\n",
              "      <th>currently_mental_health_disorder</th>\n",
              "      <td>0</td>\n",
              "    </tr>\n",
              "    <tr>\n",
              "      <th>diagnosed_mental_health_condition</th>\n",
              "      <td>0</td>\n",
              "    </tr>\n",
              "    <tr>\n",
              "      <th>treatment_from_professional</th>\n",
              "      <td>0</td>\n",
              "    </tr>\n",
              "    <tr>\n",
              "      <th>while_effective_treatment_mental_health_issue_interferes_work</th>\n",
              "      <td>0</td>\n",
              "    </tr>\n",
              "    <tr>\n",
              "      <th>while_not_effective_treatment_interferes_work</th>\n",
              "      <td>0</td>\n",
              "    </tr>\n",
              "    <tr>\n",
              "      <th>age</th>\n",
              "      <td>0</td>\n",
              "    </tr>\n",
              "    <tr>\n",
              "      <th>gender</th>\n",
              "      <td>0</td>\n",
              "    </tr>\n",
              "    <tr>\n",
              "      <th>country</th>\n",
              "      <td>0</td>\n",
              "    </tr>\n",
              "    <tr>\n",
              "      <th>country work</th>\n",
              "      <td>0</td>\n",
              "    </tr>\n",
              "    <tr>\n",
              "      <th>work_remotely</th>\n",
              "      <td>0</td>\n",
              "    </tr>\n",
              "    <tr>\n",
              "      <th>tech_role</th>\n",
              "      <td>0</td>\n",
              "    </tr>\n",
              "    <tr>\n",
              "      <th>type_of_disorder</th>\n",
              "      <td>722</td>\n",
              "    </tr>\n",
              "    <tr>\n",
              "      <th>US state</th>\n",
              "      <td>593</td>\n",
              "    </tr>\n",
              "    <tr>\n",
              "      <th>US state work</th>\n",
              "      <td>582</td>\n",
              "    </tr>\n",
              "  </tbody>\n",
              "</table>\n",
              "</div>"
            ],
            "text/plain": [
              "                                                      0\n",
              "self_employed                                         0\n",
              "no_of_employees                                       0\n",
              "tech_company                                          0\n",
              "mental_healthcare_coverage                            0\n",
              "knowledge_about_mental_healthcare_options_workp...    0\n",
              "employer_discussed_mental_health                      0\n",
              "employer_offer_resources_to_learn_about_mental_...    0\n",
              "medical_leave_from_work                               0\n",
              "comfortable_discussing_with_coworkers                 0\n",
              "employer_take_mental_health_seriously                 0\n",
              "openess_of_family_friends                             0\n",
              "family_history_mental_illness                         0\n",
              "mental_health_disorder_past                           0\n",
              "currently_mental_health_disorder                      0\n",
              "diagnosed_mental_health_condition                     0\n",
              "treatment_from_professional                           0\n",
              "while_effective_treatment_mental_health_issue_i...    0\n",
              "while_not_effective_treatment_interferes_work         0\n",
              "age                                                   0\n",
              "gender                                                0\n",
              "country                                               0\n",
              "country work                                          0\n",
              "work_remotely                                         0\n",
              "tech_role                                             0\n",
              "type_of_disorder                                    722\n",
              "US state                                            593\n",
              "US state work                                       582"
            ]
          },
          "metadata": {},
          "execution_count": 28
        }
      ]
    },
    {
      "cell_type": "markdown",
      "metadata": {
        "id": "bZG2LUTZfsxC"
      },
      "source": [
        "#3. EDA\n",
        "\n",
        "A. Questions with regard to the Target:\n",
        "1.  If a person is self employed then is there a higher chance of mental disorder?\n",
        "2.  Does big size of the company affect your mental health condition adversely?\n",
        "3.  Does working in a tech company affect adversely to your mental well being?\n",
        "5.  Will offering more options to learn about mental health reduces the chance of getting positive?\n",
        "8.  If Employer takes mental health seriously, then will it reduce the chance of positive diagonosis?\n",
        "10.  What are the chances that if a person having family history of mental illness then he is diagonised positive?\n",
        "13.  How many of those who has diagonised positively will seek help of professional?\n",
        "15.  Is the chances of getting positively diagonised increases with age?\n",
        "16.  Is there any chance that a other gender category is more positively diagonised than other gender categories?\n"
      ]
    },
    {
      "cell_type": "markdown",
      "metadata": {
        "id": "3TFhHnGblzgf"
      },
      "source": [
        "### 1.  If a person is self employed then is there a higher chance of mental disorder?"
      ]
    },
    {
      "cell_type": "code",
      "metadata": {
        "colab": {
          "base_uri": "https://localhost:8080/",
          "height": 199
        },
        "id": "SZPOqQvYfxVA",
        "outputId": "ca7e8d03-0b7e-40c4-976f-5dd0cfb32ad9"
      },
      "source": [
        "plt.subplot(1,2,1)\n",
        "plt.title(\"for self employed\")\n",
        "plt.pie(df_eda[df_eda.self_employed==1]['diagnosed_mental_health_condition'].value_counts(),\n",
        "       autopct='%1f%%',radius=1, \n",
        "       labels=df_eda[df_eda.self_employed==1]['diagnosed_mental_health_condition'].value_counts().index);\n",
        "\n",
        "plt.subplot(1,2,2)\n",
        "plt.title(\"for not self employed\")\n",
        "plt.pie(df_eda[df_eda.self_employed==0]['diagnosed_mental_health_condition'].value_counts(),\n",
        "       autopct='%1f%%',radius=1, \n",
        "       labels=df_eda[df_eda.self_employed==0]['diagnosed_mental_health_condition'].value_counts().index);"
      ],
      "execution_count": 39,
      "outputs": [
        {
          "output_type": "display_data",
          "data": {
            "image/png": "[encoded data removed]",
            "text/plain": [
              "<Figure size 432x288 with 2 Axes>"
            ]
          },
          "metadata": {}
        }
      ]
    },
    {
      "cell_type": "markdown",
      "metadata": {
        "id": "K6sOQAe4l6UT"
      },
      "source": [
        "### 2.  Does big size of the company affect your mental health condition adversely?"
      ]
    },
    {
      "cell_type": "code",
      "metadata": {
        "colab": {
          "base_uri": "https://localhost:8080/",
          "height": 296
        },
        "id": "NEW06ucghQWP",
        "outputId": "02dd0b0f-111e-4ed6-ea63-3601c90ef4e2"
      },
      "source": [
        "##A.2\n",
        "sns.countplot(data=df_eda,x='no_of_employees',hue='diagnosed_mental_health_condition')\n",
        "plt.title('Mental health in different size companies');"
      ],
      "execution_count": 40,
      "outputs": [
        {
          "output_type": "display_data",
          "data": {
            "image/png": "[encoded data removed]",
            "text/plain": [
              "<Figure size 432x288 with 1 Axes>"
            ]
          },
          "metadata": {
            "needs_background": "light"
          }
        }
      ]
    },
    {
      "cell_type": "markdown",
      "metadata": {
        "id": "weY6c9ii8T37"
      },
      "source": [
        "### 3.  Does working in a tech company affect adversely to your mental well being?"
      ]
    },
    {
      "cell_type": "code",
      "metadata": {
        "colab": {
          "base_uri": "https://localhost:8080/",
          "height": 306
        },
        "id": "_muEibR9hUhW",
        "outputId": "cf58503e-6129-4d25-956e-0d33f1ef72e0"
      },
      "source": [
        "##A.3\n",
        "plt.subplot(1,2,1)\n",
        "plt.title(\"Tech company\")\n",
        "plt.pie(df_eda[df_eda.tech_company==1]['diagnosed_mental_health_condition'].value_counts(),\n",
        "       autopct='%1f%%',radius=1, \n",
        "       labels=df_eda[df_eda.tech_company==1]['diagnosed_mental_health_condition'].value_counts().index);\n",
        "\n",
        "plt.subplot(1,2,2)\n",
        "plt.title(\"Non Tech company\")\n",
        "plt.pie(df_eda[df_eda.tech_company==0]['diagnosed_mental_health_condition'].value_counts(),\n",
        "       autopct='%1f%%',radius=1,\n",
        "       labels=df_eda[df_eda.tech_company==0]['diagnosed_mental_health_condition'].value_counts().index);"
      ],
      "execution_count": 31,
      "outputs": [
        {
          "output_type": "execute_result",
          "data": {
            "text/plain": [
              "([<matplotlib.patches.Wedge at 0x7fcbc02793d0>,\n",
              "  <matplotlib.patches.Wedge at 0x7fcbc02398d0>],\n",
              " [Text(-0.019708651065785975, 1.0998234263158642, 'Yes'),\n",
              "  Text(0.019708754038686934, -1.0998234244706022, 'No')],\n",
              " [Text(-0.01075017330861053, 0.5999036870813804, '50.570345%'),\n",
              "  Text(0.010750229475647417, -0.5999036860748739, '49.429658%')])"
            ]
          },
          "metadata": {},
          "execution_count": 31
        },
        {
          "output_type": "display_data",
          "data": {
            "image/png": "[encoded data removed]",
            "text/plain": [
              "<Figure size 432x288 with 2 Axes>"
            ]
          },
          "metadata": {}
        }
      ]
    },
    {
      "cell_type": "markdown",
      "metadata": {
        "id": "AB6HhrLt8l97"
      },
      "source": [
        "### 4.  Will offering more options to learn about mental health reduces the chance of getting positive?"
      ]
    },
    {
      "cell_type": "code",
      "metadata": {
        "colab": {
          "base_uri": "https://localhost:8080/",
          "height": 314
        },
        "id": "kgBmaU6shplN",
        "outputId": "f71ba147-095c-4bf7-eddc-02bb7e96a29a"
      },
      "source": [
        "sns.countplot(data=df_eda,x='employer_offer_resources_to_learn_about_mental_health',hue='diagnosed_mental_health_condition')\n",
        "plt.title('Mental health Resource offering vs Daignostic Counts');"
      ],
      "execution_count": 32,
      "outputs": [
        {
          "output_type": "execute_result",
          "data": {
            "text/plain": [
              "Text(0.5, 1.0, 'Mental health Resource offering vs Daignostic Counts')"
            ]
          },
          "metadata": {},
          "execution_count": 32
        },
        {
          "output_type": "display_data",
          "data": {
            "image/png": "[encoded data removed]",
            "text/plain": [
              "<Figure size 432x288 with 1 Axes>"
            ]
          },
          "metadata": {
            "needs_background": "light"
          }
        }
      ]
    },
    {
      "cell_type": "markdown",
      "metadata": {
        "id": "WeVT-H3R8x2y"
      },
      "source": [
        "### 5. If Employer takes mental health seriously, then will it reduce the chance of positive diagonosis?"
      ]
    },
    {
      "cell_type": "code",
      "metadata": {
        "colab": {
          "base_uri": "https://localhost:8080/",
          "height": 314
        },
        "id": "xpUZ4qucjNbg",
        "outputId": "bb176b28-b3f4-48e2-9055-c2573b8cf820"
      },
      "source": [
        "sns.countplot(data=df_eda,x='employer_take_mental_health_seriously',hue='diagnosed_mental_health_condition')\n",
        "plt.title('Employers seriousness vs Daignostic Counts');"
      ],
      "execution_count": 33,
      "outputs": [
        {
          "output_type": "execute_result",
          "data": {
            "text/plain": [
              "Text(0.5, 1.0, 'Employers seriousness vs Daignostic Counts')"
            ]
          },
          "metadata": {},
          "execution_count": 33
        },
        {
          "output_type": "display_data",
          "data": {
            "image/png": "[encoded data removed]",
            "text/plain": [
              "<Figure size 432x288 with 1 Axes>"
            ]
          },
          "metadata": {
            "needs_background": "light"
          }
        }
      ]
    },
    {
      "cell_type": "markdown",
      "metadata": {
        "id": "7zmSlCwI89ja"
      },
      "source": [
        "### 6.  What are the chances that if a person having family history of mental illness then he is diagonised positive?"
      ]
    },
    {
      "cell_type": "code",
      "metadata": {
        "colab": {
          "base_uri": "https://localhost:8080/",
          "height": 314
        },
        "id": "xx4srL6DjTMZ",
        "outputId": "48656dc3-af7f-4807-f9b5-ff0ee828a5aa"
      },
      "source": [
        "sns.countplot(data=df_eda,x='family_history_mental_illness',hue='diagnosed_mental_health_condition')\n",
        "plt.title('Family History vs Daignostic Counts');"
      ],
      "execution_count": 34,
      "outputs": [
        {
          "output_type": "execute_result",
          "data": {
            "text/plain": [
              "Text(0.5, 1.0, 'Family History vs Daignostic Counts')"
            ]
          },
          "metadata": {},
          "execution_count": 34
        },
        {
          "output_type": "display_data",
          "data": {
            "image/png": "[encoded data removed]",
            "text/plain": [
              "<Figure size 432x288 with 1 Axes>"
            ]
          },
          "metadata": {
            "needs_background": "light"
          }
        }
      ]
    },
    {
      "cell_type": "markdown",
      "metadata": {
        "id": "2u75fYuH9EKd"
      },
      "source": [
        "### 7.  How many of those who has diagonised positively will seek help of professional?"
      ]
    },
    {
      "cell_type": "code",
      "metadata": {
        "colab": {
          "base_uri": "https://localhost:8080/",
          "height": 407
        },
        "id": "NFmNIvVOjT3t",
        "outputId": "ccf6b5f5-6383-4daf-8b65-4be21c2b0671"
      },
      "source": [
        "plt.figure(figsize=(10,10))\n",
        "plt.subplot(1,2,1)\n",
        "plt.title(\"Taking Help from professional\")\n",
        "plt.pie(df_eda[df_eda.treatment_from_professional==1]['diagnosed_mental_health_condition'].value_counts(),\n",
        "       autopct='%1f%%',radius=1,\n",
        "       labels=df_eda[df_eda.treatment_from_professional==1]['diagnosed_mental_health_condition'].value_counts().index);\n",
        "\n",
        "plt.subplot(1,2,2)\n",
        "plt.title(\"Not taking help from professional\")\n",
        "plt.pie(df_eda[df_eda.treatment_from_professional==0]['diagnosed_mental_health_condition'].value_counts(),\n",
        "       autopct='%1f%%',radius=1,\n",
        "       labels=df_eda[df_eda.treatment_from_professional==0]['diagnosed_mental_health_condition'].value_counts().index);"
      ],
      "execution_count": 35,
      "outputs": [
        {
          "output_type": "execute_result",
          "data": {
            "text/plain": [
              "([<matplotlib.patches.Wedge at 0x7fcbc0088050>,\n",
              "  <matplotlib.patches.Wedge at 0x7fcbbffd2150>],\n",
              " [Text(-1.0754761146685294, 0.2309786283998678, 'No'),\n",
              "  Text(1.0754761092620841, -0.23097865357320332, 'Yes')],\n",
              " [Text(-0.5866233352737433, 0.12598834276356424, '93.265992%'),\n",
              "  Text(0.5866233323247732, -0.1259883564944745, '6.734007%')])"
            ]
          },
          "metadata": {},
          "execution_count": 35
        },
        {
          "output_type": "display_data",
          "data": {
            "image/png": "[encoded data removed]",
            "text/plain": [
              "<Figure size 720x720 with 2 Axes>"
            ]
          },
          "metadata": {}
        }
      ]
    },
    {
      "cell_type": "markdown",
      "metadata": {
        "id": "68ckOVxB9KKR"
      },
      "source": [
        "### 8. Is the chances of getting positively diagonised increases with age?"
      ]
    },
    {
      "cell_type": "code",
      "metadata": {
        "colab": {
          "base_uri": "https://localhost:8080/",
          "height": 461
        },
        "id": "pJWOCPRsjdWm",
        "outputId": "26fd0eb9-a0c0-4a2b-c097-7e0a023a5add"
      },
      "source": [
        "plt.figure(figsize=(7,7))\n",
        "plt.subplot(1,2,1)\n",
        "plt.hist(df_eda[df_eda.diagnosed_mental_health_condition=='Yes']['age'],bins=5)\n",
        "plt.title(\"Positive Diagonosis with age\");\n",
        "\n",
        "plt.subplot(1,2,2)\n",
        "plt.hist(df_eda[df_eda.diagnosed_mental_health_condition=='No']['age'],bins=5)\n",
        "plt.title(\"Negetive Diagonosis with age\");"
      ],
      "execution_count": 36,
      "outputs": [
        {
          "output_type": "execute_result",
          "data": {
            "text/plain": [
              "Text(0.5, 1.0, 'Negetive Diagonosis with age')"
            ]
          },
          "metadata": {},
          "execution_count": 36
        },
        {
          "output_type": "display_data",
          "data": {
            "image/png": "[encoded data removed]",
            "text/plain": [
              "<Figure size 504x504 with 2 Axes>"
            ]
          },
          "metadata": {
            "needs_background": "light"
          }
        }
      ]
    },
    {
      "cell_type": "markdown",
      "metadata": {
        "id": "JEkoqwZM-niS"
      },
      "source": [
        "Above chart shows the age group between 30-40 are maximum affected than any other age group."
      ]
    },
    {
      "cell_type": "markdown",
      "metadata": {
        "id": "s2r7ihL49SIq"
      },
      "source": [
        "### 9.  Is there any chance that a other gender category is more positively diagonised than other gender categories?"
      ]
    },
    {
      "cell_type": "code",
      "metadata": {
        "colab": {
          "base_uri": "https://localhost:8080/",
          "height": 211
        },
        "id": "EdlHafYujn78",
        "outputId": "73dd69c7-7149-439b-d27f-c3782205d9b2"
      },
      "source": [
        "plt.figure(figsize=(10,10))\n",
        "plt.subplot(1,3,1)\n",
        "plt.title(\"Male\")\n",
        "plt.pie(df_eda[df_eda.gender=='male']['diagnosed_mental_health_condition'].value_counts(),\n",
        "       autopct='%1f%%',radius=1,\n",
        "       labels=df_eda[df_eda.gender=='male']['diagnosed_mental_health_condition'].value_counts().index);\n",
        "\n",
        "plt.subplot(1,3,2)\n",
        "plt.title(\"Female\")\n",
        "plt.pie(df_eda[df_eda.gender=='female']['diagnosed_mental_health_condition'].value_counts(),\n",
        "       autopct='%1f%%',radius=1,\n",
        "       labels=df_eda[df_eda.gender=='female']['diagnosed_mental_health_condition'].value_counts().index);\n",
        "\n",
        "plt.subplot(1,3,3)\n",
        "plt.title(\"Others\")\n",
        "plt.pie(df_eda[df_eda.gender=='other']['diagnosed_mental_health_condition'].value_counts(),\n",
        "       autopct='%1f%%',radius=1,\n",
        "       labels=df_eda[df_eda.gender=='other']['diagnosed_mental_health_condition'].value_counts().index);\n"
      ],
      "execution_count": 38,
      "outputs": [
        {
          "output_type": "display_data",
          "data": {
            "image/png": "[encoded data removed]",
            "text/plain": [
              "<Figure size 720x720 with 3 Axes>"
            ]
          },
          "metadata": {}
        }
      ]
    },
    {
      "cell_type": "markdown",
      "metadata": {
        "id": "J2qLwIwO950c"
      },
      "source": [
        "Above chart shows Females has more suffered with mental health than males. In others categories also shows there are 85 % affected with mental health."
      ]
    },
    {
      "cell_type": "code",
      "metadata": {
        "id": "Pi08BE69lS3D"
      },
      "source": [
        ""
      ],
      "execution_count": 37,
      "outputs": []
    }
  ]
}