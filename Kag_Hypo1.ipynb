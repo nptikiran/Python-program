{
  "nbformat": 4,
  "nbformat_minor": 0,
  "metadata": {
    "colab": {
      "name": "Kag_Hypo1.ipynb",
      "provenance": [],
      "authorship_tag": "ABX9TyNlHHrlvoUxfLju9QyosPjO",
      "include_colab_link": true
    },
    "kernelspec": {
      "name": "python3",
      "display_name": "Python 3"
    }
  },
  "cells": [
    {
      "cell_type": "markdown",
      "metadata": {
        "id": "view-in-github",
        "colab_type": "text"
      },
      "source": [
        "<a href=\"https://colab.research.google.com/github/nptikiran/Python-program/blob/main/Kag_Hypo1.ipynb\" target=\"_parent\"><img src=\"https://colab.research.google.com/assets/colab-badge.svg\" alt=\"Open In Colab\"/></a>"
      ]
    },
    {
      "cell_type": "code",
      "metadata": {
        "id": "tPnyoGWkKLsi"
      },
      "source": [
        "import numpy as np\n",
        "import pandas as pd\n",
        "import scipy.stats as stats\n",
        "import matplotlib.pyplot as plt\n",
        "import math"
      ],
      "execution_count": null,
      "outputs": []
    },
    {
      "cell_type": "code",
      "metadata": {
        "id": "q9qo52dgKnfP",
        "colab": {
          "base_uri": "https://localhost:8080/",
          "height": 50
        },
        "outputId": "4a0ad508-786a-4d88-886c-932d0f5b97f2"
      },
      "source": [
        "np.random.seed(6)\n",
        "\n",
        "population_ages1 = stats.poisson.rvs(loc=18, mu=35, size=150000)\n",
        "population_ages2 = stats.poisson.rvs(loc=18, mu=10, size=100000)\n",
        "population_ages = np.concatenate((population_ages1, population_ages2))\n",
        "\n",
        "minnesota_ages1 = stats.poisson.rvs(loc=18, mu=30, size=30)\n",
        "minnesota_ages2 = stats.poisson.rvs(loc=18, mu=10, size=20)\n",
        "minnesota_ages = np.concatenate((minnesota_ages1, minnesota_ages2))\n",
        "\n",
        "print(population_ages.mean())\n",
        "print(minnesota_ages.mean())"
      ],
      "execution_count": null,
      "outputs": [
        {
          "output_type": "stream",
          "text": [
            "43.000112\n",
            "39.26\n"
          ],
          "name": "stdout"
        }
      ]
    },
    {
      "cell_type": "code",
      "metadata": {
        "id": "Nbnm7F57Kt9r",
        "colab": {
          "base_uri": "https://localhost:8080/",
          "height": 34
        },
        "outputId": "940e4127-bfba-40d6-830a-4e590c774bbe"
      },
      "source": [
        "stats.ttest_1samp(a= minnesota_ages,                  # Sample data\n",
        "                  popmean= population_ages.mean())    # pop mean"
      ],
      "execution_count": null,
      "outputs": [
        {
          "output_type": "execute_result",
          "data": {
            "text/plain": [
              "Ttest_1sampResult(statistic=-2.5742714883655027, pvalue=0.013118685425061678)"
            ]
          },
          "metadata": {
            "tags": []
          },
          "execution_count": 4
        }
      ]
    },
    {
      "cell_type": "code",
      "metadata": {
        "id": "qy0MyVbLMsdy",
        "colab": {
          "base_uri": "https://localhost:8080/",
          "height": 34
        },
        "outputId": "1f5025f1-3f01-41bf-a6fc-dad1bdc1abe0"
      },
      "source": [
        "stats.t.ppf(q=0.025,                                  # Quantile to check\n",
        "           df= 49)                                    # degree of freedom"
      ],
      "execution_count": null,
      "outputs": [
        {
          "output_type": "execute_result",
          "data": {
            "text/plain": [
              "-2.0095752344892093"
            ]
          },
          "metadata": {
            "tags": []
          },
          "execution_count": 5
        }
      ]
    },
    {
      "cell_type": "code",
      "metadata": {
        "id": "X8rnJaB4Q_yY",
        "colab": {
          "base_uri": "https://localhost:8080/",
          "height": 34
        },
        "outputId": "99168081-b2d0-4ad1-e79f-c93802283f17"
      },
      "source": [
        "stats.t.ppf(q = 0.975,                                # Quantile to check\n",
        "            df= 49)                                   # Degree of freedom"
      ],
      "execution_count": null,
      "outputs": [
        {
          "output_type": "execute_result",
          "data": {
            "text/plain": [
              "2.009575234489209"
            ]
          },
          "metadata": {
            "tags": []
          },
          "execution_count": 6
        }
      ]
    },
    {
      "cell_type": "code",
      "metadata": {
        "id": "rQaaXCwxRMjf",
        "colab": {
          "base_uri": "https://localhost:8080/",
          "height": 34
        },
        "outputId": "12472fc2-c965-4183-ed5d-39fdee46c6e2"
      },
      "source": [
        "stats.t.cdf(x= -2.57,                                 # above calculated t-statistics\n",
        "            df = 49 ) * 2                             # multiply by two for two tailed test"
      ],
      "execution_count": null,
      "outputs": [
        {
          "output_type": "execute_result",
          "data": {
            "text/plain": [
              "0.013261652625859802"
            ]
          },
          "metadata": {
            "tags": []
          },
          "execution_count": 7
        }
      ]
    },
    {
      "cell_type": "code",
      "metadata": {
        "id": "LTqK7v5lFPur",
        "colab": {
          "base_uri": "https://localhost:8080/",
          "height": 34
        },
        "outputId": "8a8aaca9-e393-4d3f-9539-dbe86a8ba044"
      },
      "source": [
        "sigma = minnesota_ages.std()/math.sqrt(50)            # sample stdev/sample size\n",
        "stats.t.interval(0.95,                                # confidence level\n",
        "                 df = 49,                             # Degree of freedom \n",
        "                 loc = minnesota_ages.mean(),         # sample mean\n",
        "                 scale = sigma)                       # std dev estimate\n",
        "\n"
      ],
      "execution_count": null,
      "outputs": [
        {
          "output_type": "execute_result",
          "data": {
            "text/plain": [
              "(36.369669080722176, 42.15033091927782)"
            ]
          },
          "metadata": {
            "tags": []
          },
          "execution_count": 8
        }
      ]
    },
    {
      "cell_type": "code",
      "metadata": {
        "id": "XcV3luU9Is-7",
        "colab": {
          "base_uri": "https://localhost:8080/",
          "height": 34
        },
        "outputId": "782a131c-c691-4275-e0b6-d4f5fc35b9cc"
      },
      "source": [
        "stats.t.interval(alpha = 0.99,                        # confidence level\n",
        "                 df = 49,                             # Degree of freedom \n",
        "                 loc = minnesota_ages.mean(),         # sample mean\n",
        "                 scale = sigma)                       # std dev estimate"
      ],
      "execution_count": null,
      "outputs": [
        {
          "output_type": "execute_result",
          "data": {
            "text/plain": [
              "(35.40547994092107, 43.11452005907893)"
            ]
          },
          "metadata": {
            "tags": []
          },
          "execution_count": 10
        }
      ]
    },
    {
      "cell_type": "markdown",
      "metadata": {
        "id": "WxPTlA5qJAnR"
      },
      "source": [
        "# Two-Sample Test"
      ]
    },
    {
      "cell_type": "code",
      "metadata": {
        "id": "Gt2cvtA3Jij4",
        "colab": {
          "base_uri": "https://localhost:8080/",
          "height": 34
        },
        "outputId": "b3165c3d-e88a-4546-a9f1-eeddbcc9d3f0"
      },
      "source": [
        "np.random.seed(12)\n",
        "wisconsin_ages1 = stats.poisson.rvs(loc=18, mu=33, size=30)\n",
        "wisconsin_ages2 = stats.poisson.rvs(loc=18, mu=13, size=20)\n",
        "wisconsin_ages = np.concatenate((wisconsin_ages1, wisconsin_ages2))\n",
        "\n",
        "print(wisconsin_ages.mean())"
      ],
      "execution_count": null,
      "outputs": [
        {
          "output_type": "stream",
          "text": [
            "42.8\n"
          ],
          "name": "stdout"
        }
      ]
    },
    {
      "cell_type": "code",
      "metadata": {
        "id": "1doaOJvsKgIe",
        "colab": {
          "base_uri": "https://localhost:8080/",
          "height": 34
        },
        "outputId": "0d3bc91a-fe5d-4487-fedb-7ac2b8457daf"
      },
      "source": [
        "stats.ttest_ind(a= minnesota_ages,\n",
        "                b= wisconsin_ages,\n",
        "                equal_var= False)       # Assume sample has equal variance?"
      ],
      "execution_count": null,
      "outputs": [
        {
          "output_type": "execute_result",
          "data": {
            "text/plain": [
              "Ttest_indResult(statistic=-1.7083870793286842, pvalue=0.09073104343957748)"
            ]
          },
          "metadata": {
            "tags": []
          },
          "execution_count": 13
        }
      ]
    },
    {
      "cell_type": "markdown",
      "metadata": {
        "id": "B_FB81p6LEKL"
      },
      "source": [
        "### Paired T-Test"
      ]
    },
    {
      "cell_type": "code",
      "metadata": {
        "id": "qP8ST74NLhDT"
      },
      "source": [
        "np.random.seed(11)"
      ],
      "execution_count": null,
      "outputs": []
    },
    {
      "cell_type": "code",
      "metadata": {
        "id": "Ha5XRNw6Lnmd",
        "colab": {
          "base_uri": "https://localhost:8080/",
          "height": 284
        },
        "outputId": "6870b905-58f8-4312-ae49-f24951e03729"
      },
      "source": [
        "before = stats.norm.rvs(scale= 30, loc=250, size=100)\n",
        "\n",
        "after = before + stats.norm.rvs(scale=5, loc=1.25, size=100) \n",
        "\n",
        "weight_df = pd.DataFrame({\"weight_before\":before,\n",
        "                          \"weight_After\":after,\n",
        "                          \"weight_change\":after-before})\n",
        "weight_df.describe()                                          #Check summary of data"
      ],
      "execution_count": null,
      "outputs": [
        {
          "output_type": "execute_result",
          "data": {
            "text/html": [
              "<div>\n",
              "<style scoped>\n",
              "    .dataframe tbody tr th:only-of-type {\n",
              "        vertical-align: middle;\n",
              "    }\n",
              "\n",
              "    .dataframe tbody tr th {\n",
              "        vertical-align: top;\n",
              "    }\n",
              "\n",
              "    .dataframe thead th {\n",
              "        text-align: right;\n",
              "    }\n",
              "</style>\n",
              "<table border=\"1\" class=\"dataframe\">\n",
              "  <thead>\n",
              "    <tr style=\"text-align: right;\">\n",
              "      <th></th>\n",
              "      <th>weight_before</th>\n",
              "      <th>weight_After</th>\n",
              "      <th>weight_change</th>\n",
              "    </tr>\n",
              "  </thead>\n",
              "  <tbody>\n",
              "    <tr>\n",
              "      <th>count</th>\n",
              "      <td>100.000000</td>\n",
              "      <td>100.000000</td>\n",
              "      <td>100.000000</td>\n",
              "    </tr>\n",
              "    <tr>\n",
              "      <th>mean</th>\n",
              "      <td>252.841913</td>\n",
              "      <td>254.686028</td>\n",
              "      <td>1.844115</td>\n",
              "    </tr>\n",
              "    <tr>\n",
              "      <th>std</th>\n",
              "      <td>28.976078</td>\n",
              "      <td>28.932384</td>\n",
              "      <td>4.844302</td>\n",
              "    </tr>\n",
              "    <tr>\n",
              "      <th>min</th>\n",
              "      <td>180.171537</td>\n",
              "      <td>186.103965</td>\n",
              "      <td>-8.606397</td>\n",
              "    </tr>\n",
              "    <tr>\n",
              "      <th>25%</th>\n",
              "      <td>233.174486</td>\n",
              "      <td>236.513277</td>\n",
              "      <td>-1.631197</td>\n",
              "    </tr>\n",
              "    <tr>\n",
              "      <th>50%</th>\n",
              "      <td>254.355243</td>\n",
              "      <td>256.426258</td>\n",
              "      <td>2.247237</td>\n",
              "    </tr>\n",
              "    <tr>\n",
              "      <th>75%</th>\n",
              "      <td>273.796980</td>\n",
              "      <td>274.558157</td>\n",
              "      <td>5.111778</td>\n",
              "    </tr>\n",
              "    <tr>\n",
              "      <th>max</th>\n",
              "      <td>304.457210</td>\n",
              "      <td>306.903453</td>\n",
              "      <td>13.908578</td>\n",
              "    </tr>\n",
              "  </tbody>\n",
              "</table>\n",
              "</div>"
            ],
            "text/plain": [
              "       weight_before  weight_After  weight_change\n",
              "count     100.000000    100.000000     100.000000\n",
              "mean      252.841913    254.686028       1.844115\n",
              "std        28.976078     28.932384       4.844302\n",
              "min       180.171537    186.103965      -8.606397\n",
              "25%       233.174486    236.513277      -1.631197\n",
              "50%       254.355243    256.426258       2.247237\n",
              "75%       273.796980    274.558157       5.111778\n",
              "max       304.457210    306.903453      13.908578"
            ]
          },
          "metadata": {
            "tags": []
          },
          "execution_count": 24
        }
      ]
    },
    {
      "cell_type": "code",
      "metadata": {
        "id": "UkMYCjbsMuaA",
        "colab": {
          "base_uri": "https://localhost:8080/",
          "height": 34
        },
        "outputId": "2f9e82b8-8646-4287-af7a-8528eac9c3d6"
      },
      "source": [
        "stats.ttest_rel(a=before,\n",
        "                b= after)"
      ],
      "execution_count": null,
      "outputs": [
        {
          "output_type": "execute_result",
          "data": {
            "text/plain": [
              "Ttest_relResult(statistic=-3.8067703112240143, pvalue=0.00024411350695115237)"
            ]
          },
          "metadata": {
            "tags": []
          },
          "execution_count": 27
        }
      ]
    },
    {
      "cell_type": "code",
      "metadata": {
        "id": "d9LDcRLoOClZ",
        "colab": {
          "base_uri": "https://localhost:8080/",
          "height": 592
        },
        "outputId": "ed150432-0a1a-4c98-cb77-6796b0718c15"
      },
      "source": [
        "plt.figure(figsize=(12,10))\n",
        "\n",
        "plt.fill_between(x=np.arange(-4,-2,0.01), \n",
        "                 y1= stats.norm.pdf(np.arange(-4,-2,0.01)) ,\n",
        "                 facecolor='red',\n",
        "                 alpha=0.35)\n",
        "\n",
        "plt.fill_between(x=np.arange(-2,2,0.01), \n",
        "                 y1= stats.norm.pdf(np.arange(-2,2,0.01)) ,\n",
        "                 facecolor='white',\n",
        "                 alpha=0.35)\n",
        "\n",
        "plt.fill_between(x=np.arange(2,4,0.01), \n",
        "                 y1= stats.norm.pdf(np.arange(2,4,0.01)) ,\n",
        "                 facecolor='red',\n",
        "                 alpha=0.5)\n",
        "\n",
        "plt.fill_between(x=np.arange(-4,-2,0.01), \n",
        "                 y1= stats.norm.pdf(np.arange(-4,-2,0.01),loc=3, scale=2) ,\n",
        "                 facecolor='white',\n",
        "                 alpha=0.35)\n",
        "\n",
        "plt.fill_between(x=np.arange(-2,2,0.01), \n",
        "                 y1= stats.norm.pdf(np.arange(-2,2,0.01),loc=3, scale=2) ,\n",
        "                 facecolor='blue',\n",
        "                 alpha=0.35)\n",
        "\n",
        "plt.fill_between(x=np.arange(2,10,0.01), \n",
        "                 y1= stats.norm.pdf(np.arange(2,10,0.01),loc=3, scale=2),\n",
        "                 facecolor='white',\n",
        "                 alpha=0.35)\n",
        "\n",
        "plt.text(x=-0.8, y=0.15, s= \"Null Hypothesis\")\n",
        "plt.text(x=2.5, y=0.13, s= \"Alternative\")\n",
        "plt.text(x=2.1, y=0.01, s= \"Type 1 Error\")\n",
        "plt.text(x=-3.2, y=0.01, s= \"Type 1 Error\")\n",
        "plt.text(x=0, y=0.02, s= \"Type 2 Error\");"
      ],
      "execution_count": null,
      "outputs": [
        {
          "output_type": "display_data",
          "data": {
            "image/png": "[encoded data removed]",
            "text/plain": [
              "<Figure size 864x720 with 1 Axes>"
            ]
          },
          "metadata": {
            "tags": []
          }
        }
      ]
    },
    {
      "cell_type": "code",
      "metadata": {
        "id": "J8gAeLzqQSGM",
        "colab": {
          "base_uri": "https://localhost:8080/",
          "height": 34
        },
        "outputId": "92fb9e28-cac8-41db-953b-8f3e91f7e0fa"
      },
      "source": [
        "lower_quantile = stats.norm.ppf(0.025) # Lower cutoff value\n",
        "upper_quantile = stats.norm.ppf(0.975) # upper cutoff value\n",
        "\n",
        "# Area under alternative, to the left the lower cutoff value \n",
        "low = stats.norm.cdf(lower_quantile,\n",
        "                     loc=3,                     \n",
        "                     scale=2)\n",
        "\n",
        "# Area under the alternative, to the left the upper cutoff value\n",
        "high = stats.norm.cdf(upper_quantile,\n",
        "                      loc=3,\n",
        "                      scale=2)\n",
        "\n",
        "# Area under the alternatives ,between the cutoffs (Type II error)\n",
        "high-low"
      ],
      "execution_count": null,
      "outputs": [
        {
          "output_type": "execute_result",
          "data": {
            "text/plain": [
              "0.294956061112323"
            ]
          },
          "metadata": {
            "tags": []
          },
          "execution_count": 33
        }
      ]
    },
    {
      "cell_type": "code",
      "metadata": {
        "id": "vcf-nokdT33-"
      },
      "source": [
        ""
      ],
      "execution_count": null,
      "outputs": []
    }
  ]
}