{
  "nbformat": 4,
  "nbformat_minor": 0,
  "metadata": {
    "colab": {
      "name": "tf_Basic_variableConstantPlcHolder",
      "provenance": [],
      "collapsed_sections": [],
      "authorship_tag": "ABX9TyOGh4sUFG47jU4K+dWoX4Vi",
      "include_colab_link": true
    },
    "kernelspec": {
      "name": "python3",
      "display_name": "Python 3"
    }
  },
  "cells": [
    {
      "cell_type": "markdown",
      "metadata": {
        "id": "view-in-github",
        "colab_type": "text"
      },
      "source": [
        "<a href=\"https://colab.research.google.com/github/nptikiran/Python-program/blob/main/tf_Basic_variableConstantPlcHolder.ipynb\" target=\"_parent\"><img src=\"https://colab.research.google.com/assets/colab-badge.svg\" alt=\"Open In Colab\"/></a>"
      ]
    },
    {
      "cell_type": "code",
      "metadata": {
        "id": "iBCNp5FwD35a"
      },
      "source": [
        "import tensorflow as tf"
      ],
      "execution_count": null,
      "outputs": []
    },
    {
      "cell_type": "code",
      "metadata": {
        "id": "tCau5E4fEObu"
      },
      "source": [
        "#This is variable\n",
        "zero=tf.Variable(0)"
      ],
      "execution_count": null,
      "outputs": []
    },
    {
      "cell_type": "code",
      "metadata": {
        "id": "3XNNDG1XEXRL"
      },
      "source": [
        "#this is constant\n",
        "one=tf.constant(1)"
      ],
      "execution_count": null,
      "outputs": []
    },
    {
      "cell_type": "code",
      "metadata": {
        "id": "eBYYAAA3Eii5"
      },
      "source": [
        "new_value= tf.add(zero,one)"
      ],
      "execution_count": null,
      "outputs": []
    },
    {
      "cell_type": "code",
      "metadata": {
        "id": "BK_wSGTxEm_D"
      },
      "source": [
        "#Variable value can be changed\n",
        "update= tf.assign(zero, new_value)\n"
      ],
      "execution_count": null,
      "outputs": []
    },
    {
      "cell_type": "code",
      "metadata": {
        "id": "Q4NZz96sEzMB"
      },
      "source": [
        "update_constant=tf.assign(one,new_value)"
      ],
      "execution_count": null,
      "outputs": []
    },
    {
      "cell_type": "code",
      "metadata": {
        "id": "giXjkekxF8Kv"
      },
      "source": [
        "init_op = tf.global_variables_initializer()"
      ],
      "execution_count": null,
      "outputs": []
    },
    {
      "cell_type": "code",
      "metadata": {
        "id": "74p7qfqtFvdY"
      },
      "source": [
        "sess= tf.Session()"
      ],
      "execution_count": null,
      "outputs": []
    },
    {
      "cell_type": "code",
      "metadata": {
        "id": "VxjRlYE5F0gU"
      },
      "source": [
        "sess.run(init_op)"
      ],
      "execution_count": null,
      "outputs": []
    },
    {
      "cell_type": "code",
      "metadata": {
        "id": "iqxN9r7SGSVc"
      },
      "source": [
        "print(sess.run(zero))"
      ],
      "execution_count": null,
      "outputs": []
    },
    {
      "cell_type": "code",
      "metadata": {
        "id": "9xQrSYDYGbge"
      },
      "source": [
        "for _ in range(5):\n",
        "  sess.run(update)\n",
        "  print(sess.run(zero))"
      ],
      "execution_count": null,
      "outputs": []
    },
    {
      "cell_type": "code",
      "metadata": {
        "id": "mIVELCeiHZh0"
      },
      "source": [
        "hello= tf.constant('hello')\n",
        "world= tf.constant('world')\n",
        "helloworld=tf.add(hello, world)\n",
        "print(sess.run(helloworld))"
      ],
      "execution_count": null,
      "outputs": []
    },
    {
      "cell_type": "code",
      "metadata": {
        "id": "Z76Tc1wQH-TA"
      },
      "source": [
        ""
      ],
      "execution_count": null,
      "outputs": []
    },
    {
      "cell_type": "code",
      "metadata": {
        "id": "mJ4Znp8fIefY"
      },
      "source": [
        "ce"
      ],
      "execution_count": null,
      "outputs": []
    },
    {
      "cell_type": "code",
      "metadata": {
        "id": "N-s5vKflIN6z"
      },
      "source": [
        "#PlaceHolder\n",
        "a= tf.placeholder(tf.float32)"
      ],
      "execution_count": null,
      "outputs": []
    },
    {
      "cell_type": "code",
      "metadata": {
        "id": "YzoWLPwYIV48"
      },
      "source": [
        "b=a*2"
      ],
      "execution_count": null,
      "outputs": []
    },
    {
      "cell_type": "code",
      "metadata": {
        "id": "PHCVDGLEIcHr"
      },
      "source": [
        "#Feeding placeholder with scaler\n",
        "result=sess..run(b,feed_dict={a:3})\n",
        "\n",
        "print(result)"
      ],
      "execution_count": null,
      "outputs": []
    },
    {
      "cell_type": "code",
      "metadata": {
        "id": "-goMGMFwIxqy"
      },
      "source": [
        "#feeding placeholder with vector of rank 1\n",
        "resullt = sess.run(b, feed_dict={a:[3,4,5]})\n",
        "\n",
        "print(result)"
      ],
      "execution_count": null,
      "outputs": []
    },
    {
      "cell_type": "code",
      "metadata": {
        "id": "wUTJsqziJIEn"
      },
      "source": [
        "dictionary={a:[[[1,2,3],[4,5,6],[7,8,9],[10,11,12],[13,14,15],\n",
        "                [16,17,18],[19,20,21],[22,23,24]]]}\n",
        "\n",
        "result=sess.run(b,feed_dict=dictionary)"
      ],
      "execution_count": null,
      "outputs": []
    },
    {
      "cell_type": "code",
      "metadata": {
        "id": "iMOhskBJKteZ"
      },
      "source": [
        "sess.close()"
      ],
      "execution_count": null,
      "outputs": []
    },
    {
      "cell_type": "code",
      "metadata": {
        "id": "bPjrYsSYKyhA"
      },
      "source": [
        "# Common syntax for creating session\n",
        "with tf.Session() as sess:\n",
        "  result = sess.run(hello+world)\n",
        "  print(result)"
      ],
      "execution_count": null,
      "outputs": []
    },
    {
      "cell_type": "code",
      "metadata": {
        "id": "BKakiqUKLH0c"
      },
      "source": [
        "sess.run(a)"
      ],
      "execution_count": null,
      "outputs": []
    },
    {
      "cell_type": "code",
      "metadata": {
        "id": "wtAd0O0gLZP-"
      },
      "source": [
        "graph = tf.get_default_graph()"
      ],
      "execution_count": null,
      "outputs": []
    },
    {
      "cell_type": "code",
      "metadata": {
        "id": "FDjTqbwGLgSf"
      },
      "source": [
        "graph..get_operations()"
      ],
      "execution_count": null,
      "outputs": []
    },
    {
      "cell_type": "code",
      "metadata": {
        "id": "4mrC6kkNLjsu"
      },
      "source": [
        ""
      ],
      "execution_count": null,
      "outputs": []
    },
    {
      "cell_type": "code",
      "metadata": {
        "id": "VWPKzoD7Ll_q"
      },
      "source": [
        "a=tf.constant(10,name='a')\n",
        "#useful when use tensor board"
      ],
      "execution_count": null,
      "outputs": []
    },
    {
      "cell_type": "code",
      "metadata": {
        "id": "rW41VXdmLvmm"
      },
      "source": [
        "operations=graph.get_operations()\n",
        "operations"
      ],
      "execution_count": null,
      "outputs": []
    },
    {
      "cell_type": "code",
      "metadata": {
        "id": "Xobx3jxMMBb6"
      },
      "source": [
        ""
      ],
      "execution_count": null,
      "outputs": []
    },
    {
      "cell_type": "code",
      "metadata": {
        "id": "lal2b2-mL-pM"
      },
      "source": [
        "c=tf.add(a,b,name='c')"
      ],
      "execution_count": null,
      "outputs": []
    },
    {
      "cell_type": "code",
      "metadata": {
        "id": "ZCxNJItOMIN9"
      },
      "source": [
        "operations[3].node_def"
      ],
      "execution_count": null,
      "outputs": []
    },
    {
      "cell_type": "code",
      "metadata": {
        "id": "4vBLERkJMTZw"
      },
      "source": [
        "e=tf.Session()"
      ],
      "execution_count": null,
      "outputs": []
    },
    {
      "cell_type": "code",
      "metadata": {
        "id": "hh2jWh9TMkDH"
      },
      "source": [
        "print(sess.run(e))"
      ],
      "execution_count": null,
      "outputs": []
    },
    {
      "cell_type": "code",
      "metadata": {
        "id": "i_Y-09LiMnhe"
      },
      "source": [
        "for op in graph.get_operations():print(op.name)"
      ],
      "execution_count": null,
      "outputs": []
    },
    {
      "cell_type": "code",
      "metadata": {
        "id": "1vJ7uAHVMv1v"
      },
      "source": [
        "sess.close()"
      ],
      "execution_count": null,
      "outputs": []
    },
    {
      "cell_type": "code",
      "metadata": {
        "id": "O-HiN5RAMxpL"
      },
      "source": [
        ""
      ],
      "execution_count": null,
      "outputs": []
    }
  ]
}