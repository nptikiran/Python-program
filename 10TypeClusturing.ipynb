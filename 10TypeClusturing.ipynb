{
  "nbformat": 4,
  "nbformat_minor": 0,
  "metadata": {
    "colab": {
      "name": "10TypeClusturing",
      "provenance": [],
      "collapsed_sections": []
    },
    "kernelspec": {
      "name": "python3",
      "display_name": "Python 3"
    }
  },
  "cells": [
    {
      "cell_type": "markdown",
      "metadata": {
        "id": "NSI5FjTFjZ7f"
      },
      "source": [
        "# **Prediction using Unsupervised ML**\r\n",
        "**(Level - Beginner)**\r\n",
        "\r\n",
        "**Author:- Kiran Malwe** \r\n",
        "\r\n",
        "● From the given ‘Iris’ dataset, predict the optimum number of clusters\r\n",
        "and represent it visually.\r\n",
        "\r\n",
        "● Dataset : https://bit.ly/3kXTdox\r\n",
        "\r\n",
        "● Source : https://machinelearningmastery.com/clustering-algorithms-with-python/\r\n"
      ]
    },
    {
      "cell_type": "code",
      "metadata": {
        "id": "FLr6J_TTjqD0"
      },
      "source": [
        "# Import libraries\r\n",
        "import numpy as np\r\n",
        "import pandas as pd\r\n",
        "import matplotlib.pyplot as plt"
      ],
      "execution_count": 8,
      "outputs": []
    },
    {
      "cell_type": "code",
      "metadata": {
        "colab": {
          "base_uri": "https://localhost:8080/",
          "height": 235
        },
        "id": "fTz5R1-XkbHp",
        "outputId": "0a6f6d54-4af3-44a3-866a-fe932e38468a"
      },
      "source": [
        "# import data\r\n",
        "\r\n",
        "iris = pd.read_csv('/content/Iris.csv',index_col='Id')\r\n",
        "iris.head()"
      ],
      "execution_count": 9,
      "outputs": [
        {
          "output_type": "execute_result",
          "data": {
            "text/html": [
              "<div>\n",
              "<style scoped>\n",
              "    .dataframe tbody tr th:only-of-type {\n",
              "        vertical-align: middle;\n",
              "    }\n",
              "\n",
              "    .dataframe tbody tr th {\n",
              "        vertical-align: top;\n",
              "    }\n",
              "\n",
              "    .dataframe thead th {\n",
              "        text-align: right;\n",
              "    }\n",
              "</style>\n",
              "<table border=\"1\" class=\"dataframe\">\n",
              "  <thead>\n",
              "    <tr style=\"text-align: right;\">\n",
              "      <th></th>\n",
              "      <th>SepalLengthCm</th>\n",
              "      <th>SepalWidthCm</th>\n",
              "      <th>PetalLengthCm</th>\n",
              "      <th>PetalWidthCm</th>\n",
              "      <th>Species</th>\n",
              "    </tr>\n",
              "    <tr>\n",
              "      <th>Id</th>\n",
              "      <th></th>\n",
              "      <th></th>\n",
              "      <th></th>\n",
              "      <th></th>\n",
              "      <th></th>\n",
              "    </tr>\n",
              "  </thead>\n",
              "  <tbody>\n",
              "    <tr>\n",
              "      <th>1</th>\n",
              "      <td>5.1</td>\n",
              "      <td>3.5</td>\n",
              "      <td>1.4</td>\n",
              "      <td>0.2</td>\n",
              "      <td>Iris-setosa</td>\n",
              "    </tr>\n",
              "    <tr>\n",
              "      <th>2</th>\n",
              "      <td>4.9</td>\n",
              "      <td>3.0</td>\n",
              "      <td>1.4</td>\n",
              "      <td>0.2</td>\n",
              "      <td>Iris-setosa</td>\n",
              "    </tr>\n",
              "    <tr>\n",
              "      <th>3</th>\n",
              "      <td>4.7</td>\n",
              "      <td>3.2</td>\n",
              "      <td>1.3</td>\n",
              "      <td>0.2</td>\n",
              "      <td>Iris-setosa</td>\n",
              "    </tr>\n",
              "    <tr>\n",
              "      <th>4</th>\n",
              "      <td>4.6</td>\n",
              "      <td>3.1</td>\n",
              "      <td>1.5</td>\n",
              "      <td>0.2</td>\n",
              "      <td>Iris-setosa</td>\n",
              "    </tr>\n",
              "    <tr>\n",
              "      <th>5</th>\n",
              "      <td>5.0</td>\n",
              "      <td>3.6</td>\n",
              "      <td>1.4</td>\n",
              "      <td>0.2</td>\n",
              "      <td>Iris-setosa</td>\n",
              "    </tr>\n",
              "  </tbody>\n",
              "</table>\n",
              "</div>"
            ],
            "text/plain": [
              "    SepalLengthCm  SepalWidthCm  PetalLengthCm  PetalWidthCm      Species\n",
              "Id                                                                       \n",
              "1             5.1           3.5            1.4           0.2  Iris-setosa\n",
              "2             4.9           3.0            1.4           0.2  Iris-setosa\n",
              "3             4.7           3.2            1.3           0.2  Iris-setosa\n",
              "4             4.6           3.1            1.5           0.2  Iris-setosa\n",
              "5             5.0           3.6            1.4           0.2  Iris-setosa"
            ]
          },
          "metadata": {
            "tags": []
          },
          "execution_count": 9
        }
      ]
    },
    {
      "cell_type": "code",
      "metadata": {
        "colab": {
          "base_uri": "https://localhost:8080/",
          "height": 297
        },
        "id": "Xj8vbbp76hJX",
        "outputId": "8c8f5205-edbd-4433-ac34-a9178b21b392"
      },
      "source": [
        "iris.describe()"
      ],
      "execution_count": 10,
      "outputs": [
        {
          "output_type": "execute_result",
          "data": {
            "text/html": [
              "<div>\n",
              "<style scoped>\n",
              "    .dataframe tbody tr th:only-of-type {\n",
              "        vertical-align: middle;\n",
              "    }\n",
              "\n",
              "    .dataframe tbody tr th {\n",
              "        vertical-align: top;\n",
              "    }\n",
              "\n",
              "    .dataframe thead th {\n",
              "        text-align: right;\n",
              "    }\n",
              "</style>\n",
              "<table border=\"1\" class=\"dataframe\">\n",
              "  <thead>\n",
              "    <tr style=\"text-align: right;\">\n",
              "      <th></th>\n",
              "      <th>SepalLengthCm</th>\n",
              "      <th>SepalWidthCm</th>\n",
              "      <th>PetalLengthCm</th>\n",
              "      <th>PetalWidthCm</th>\n",
              "    </tr>\n",
              "  </thead>\n",
              "  <tbody>\n",
              "    <tr>\n",
              "      <th>count</th>\n",
              "      <td>150.000000</td>\n",
              "      <td>150.000000</td>\n",
              "      <td>150.000000</td>\n",
              "      <td>150.000000</td>\n",
              "    </tr>\n",
              "    <tr>\n",
              "      <th>mean</th>\n",
              "      <td>5.843333</td>\n",
              "      <td>3.054000</td>\n",
              "      <td>3.758667</td>\n",
              "      <td>1.198667</td>\n",
              "    </tr>\n",
              "    <tr>\n",
              "      <th>std</th>\n",
              "      <td>0.828066</td>\n",
              "      <td>0.433594</td>\n",
              "      <td>1.764420</td>\n",
              "      <td>0.763161</td>\n",
              "    </tr>\n",
              "    <tr>\n",
              "      <th>min</th>\n",
              "      <td>4.300000</td>\n",
              "      <td>2.000000</td>\n",
              "      <td>1.000000</td>\n",
              "      <td>0.100000</td>\n",
              "    </tr>\n",
              "    <tr>\n",
              "      <th>25%</th>\n",
              "      <td>5.100000</td>\n",
              "      <td>2.800000</td>\n",
              "      <td>1.600000</td>\n",
              "      <td>0.300000</td>\n",
              "    </tr>\n",
              "    <tr>\n",
              "      <th>50%</th>\n",
              "      <td>5.800000</td>\n",
              "      <td>3.000000</td>\n",
              "      <td>4.350000</td>\n",
              "      <td>1.300000</td>\n",
              "    </tr>\n",
              "    <tr>\n",
              "      <th>75%</th>\n",
              "      <td>6.400000</td>\n",
              "      <td>3.300000</td>\n",
              "      <td>5.100000</td>\n",
              "      <td>1.800000</td>\n",
              "    </tr>\n",
              "    <tr>\n",
              "      <th>max</th>\n",
              "      <td>7.900000</td>\n",
              "      <td>4.400000</td>\n",
              "      <td>6.900000</td>\n",
              "      <td>2.500000</td>\n",
              "    </tr>\n",
              "  </tbody>\n",
              "</table>\n",
              "</div>"
            ],
            "text/plain": [
              "       SepalLengthCm  SepalWidthCm  PetalLengthCm  PetalWidthCm\n",
              "count     150.000000    150.000000     150.000000    150.000000\n",
              "mean        5.843333      3.054000       3.758667      1.198667\n",
              "std         0.828066      0.433594       1.764420      0.763161\n",
              "min         4.300000      2.000000       1.000000      0.100000\n",
              "25%         5.100000      2.800000       1.600000      0.300000\n",
              "50%         5.800000      3.000000       4.350000      1.300000\n",
              "75%         6.400000      3.300000       5.100000      1.800000\n",
              "max         7.900000      4.400000       6.900000      2.500000"
            ]
          },
          "metadata": {
            "tags": []
          },
          "execution_count": 10
        }
      ]
    },
    {
      "cell_type": "code",
      "metadata": {
        "colab": {
          "base_uri": "https://localhost:8080/"
        },
        "id": "cTSjvjwIkqki",
        "outputId": "6ad9691d-0052-40ad-bcb7-43cb41164604"
      },
      "source": [
        "iris.shape"
      ],
      "execution_count": 11,
      "outputs": [
        {
          "output_type": "execute_result",
          "data": {
            "text/plain": [
              "(150, 5)"
            ]
          },
          "metadata": {
            "tags": []
          },
          "execution_count": 11
        }
      ]
    },
    {
      "cell_type": "code",
      "metadata": {
        "colab": {
          "base_uri": "https://localhost:8080/"
        },
        "id": "WHYTtDxIovSk",
        "outputId": "9e39e55c-d290-466e-9d2d-74b8f74de838"
      },
      "source": [
        "iris.isnull().sum()"
      ],
      "execution_count": 12,
      "outputs": [
        {
          "output_type": "execute_result",
          "data": {
            "text/plain": [
              "SepalLengthCm    0\n",
              "SepalWidthCm     0\n",
              "PetalLengthCm    0\n",
              "PetalWidthCm     0\n",
              "Species          0\n",
              "dtype: int64"
            ]
          },
          "metadata": {
            "tags": []
          },
          "execution_count": 12
        }
      ]
    },
    {
      "cell_type": "code",
      "metadata": {
        "colab": {
          "base_uri": "https://localhost:8080/"
        },
        "id": "CD8vFnomqGsP",
        "outputId": "746c197d-e07c-4dbb-fc40-0696cbbe0380"
      },
      "source": [
        "iris.dtypes"
      ],
      "execution_count": 13,
      "outputs": [
        {
          "output_type": "execute_result",
          "data": {
            "text/plain": [
              "SepalLengthCm    float64\n",
              "SepalWidthCm     float64\n",
              "PetalLengthCm    float64\n",
              "PetalWidthCm     float64\n",
              "Species           object\n",
              "dtype: object"
            ]
          },
          "metadata": {
            "tags": []
          },
          "execution_count": 13
        }
      ]
    },
    {
      "cell_type": "code",
      "metadata": {
        "id": "iDRfEdA6qJTo"
      },
      "source": [
        "x = iris.iloc[:, 0:4].values\r\n",
        "y = iris.Species"
      ],
      "execution_count": 14,
      "outputs": []
    },
    {
      "cell_type": "markdown",
      "metadata": {
        "id": "VyF76BSN7RUQ"
      },
      "source": [
        "## **KMeans Clustering**"
      ]
    },
    {
      "cell_type": "code",
      "metadata": {
        "colab": {
          "base_uri": "https://localhost:8080/",
          "height": 299
        },
        "id": "lAGqFdJFqo8P",
        "outputId": "d8398372-054b-4e9c-cb4e-7be25400fe93"
      },
      "source": [
        "# Finding number of clusters using KMeans Classification\r\n",
        "from sklearn.cluster import KMeans\r\n",
        "\r\n",
        "wcss = [] # Within Cluster Sum of Squares\r\n",
        "\r\n",
        "for i in range(1, 11):\r\n",
        "  kmeans = KMeans(n_clusters = i, init = 'k-means++', random_state = 10)\r\n",
        "  kmeans.fit(x)\r\n",
        "  wcss.append(kmeans.inertia_)\r\n",
        "  # To get the values used in the graph, \r\n",
        "  # we train multiple models using a different number of clusters and \r\n",
        "  # storing the value of the intertia_ property (WCSS) every time.\r\n",
        "\r\n",
        "# Plotting elbow graph to know the no. of clusters\r\n",
        "plt.grid()\r\n",
        "plt.plot(range(1,11), wcss)\r\n",
        "plt.title('The Elbow Method',size=18)\r\n",
        "plt.xlabel('Number of Clusters',size=10)\r\n",
        "plt.ylabel('WCSS',size=10)\r\n",
        "plt.show();\r\n"
      ],
      "execution_count": 15,
      "outputs": [
        {
          "output_type": "display_data",
          "data": {
            "image/png": "[encoded data removed]",
            "text/plain": [
              "<Figure size 432x288 with 1 Axes>"
            ]
          },
          "metadata": {
            "tags": [],
            "needs_background": "light"
          }
        }
      ]
    },
    {
      "cell_type": "markdown",
      "metadata": {
        "id": "B0Dl5q2XzX9h"
      },
      "source": [
        "From the graph we find out the number of clusters.Elbow occures where optimum no. of clusters occures. \r\n",
        "\r\n",
        "From this we can choose **3** no. of clusters."
      ]
    },
    {
      "cell_type": "code",
      "metadata": {
        "id": "z1_mpLtHxuRm"
      },
      "source": [
        "# Applying KMeans to the dataset\r\n",
        "kmeans = KMeans(n_clusters = 3, init = 'k-means++', max_iter = 300,\r\n",
        "                n_init = 10, random_state = 123)\r\n",
        "y_pred = kmeans.fit_predict(x)"
      ],
      "execution_count": 16,
      "outputs": []
    },
    {
      "cell_type": "code",
      "metadata": {
        "colab": {
          "base_uri": "https://localhost:8080/",
          "height": 390
        },
        "id": "4cSNImLE1kGw",
        "outputId": "4e3c8989-adf6-4bb2-ebca-2f12eb611fdd"
      },
      "source": [
        "# Visulization of clusters between any two column\r\n",
        "plt.figure(figsize = (12, 6))\r\n",
        "plt.scatter(x[y_pred == 0, 0], x[y_pred == 0, 1], s  = 50, c = 'green', label='Iris-Versicolor')\r\n",
        "plt.scatter(x[y_pred == 1, 0], x[y_pred == 1, 1], s  = 50, c = 'red', label='Iris-Sentosa')\r\n",
        "plt.scatter(x[y_pred == 2, 0], x[y_pred == 2, 1], s  = 50, c = 'blue', label='Iris-Virginica')\r\n",
        "plt.xlabel('Sepal Length')\r\n",
        "plt.ylabel('Sepal Width')\r\n",
        "plt.legend();"
      ],
      "execution_count": 17,
      "outputs": [
        {
          "output_type": "display_data",
          "data": {
            "image/png": "[encoded data removed]",
            "text/plain": [
              "<Figure size 864x432 with 1 Axes>"
            ]
          },
          "metadata": {
            "tags": [],
            "needs_background": "light"
          }
        }
      ]
    },
    {
      "cell_type": "markdown",
      "metadata": {
        "id": "8IeCYxKO7qmg"
      },
      "source": [
        "##**Affinity Propagation classification**"
      ]
    },
    {
      "cell_type": "code",
      "metadata": {
        "colab": {
          "base_uri": "https://localhost:8080/"
        },
        "id": "gL8Fr2ZI4lN_",
        "outputId": "8488ac13-40d4-4386-9306-8d3e038f491a"
      },
      "source": [
        "from sklearn.cluster import AffinityPropagation\r\n",
        "from numpy import unique\r\n",
        "\r\n",
        "# Define Model\r\n",
        "model = AffinityPropagation(damping = 0.7)\r\n",
        "#dumping helps to decide no. of clusters.\r\n",
        "\r\n",
        "# fit the model\r\n",
        "model.fit(x)\r\n",
        "\r\n",
        "#Assign cluster to each example\r\n",
        "y_pred = model.predict(x)\r\n",
        "# retrive unique cluster\r\n",
        "clusters = unique(y_pred)\r\n",
        "clusters"
      ],
      "execution_count": 18,
      "outputs": [
        {
          "output_type": "execute_result",
          "data": {
            "text/plain": [
              "array([0, 1, 2, 3, 4, 5])"
            ]
          },
          "metadata": {
            "tags": []
          },
          "execution_count": 18
        }
      ]
    },
    {
      "cell_type": "markdown",
      "metadata": {
        "id": "6hsK_msU_dUt"
      },
      "source": [
        "It gives 7 numbres of clusters which didn't give clear idea."
      ]
    },
    {
      "cell_type": "code",
      "metadata": {
        "colab": {
          "base_uri": "https://localhost:8080/",
          "height": 268
        },
        "id": "RUyEsfGk8R7V",
        "outputId": "e3a19744-0864-49d6-bbaa-b9e20954cdf6"
      },
      "source": [
        "from numpy import where\r\n",
        "# create scatter plot for samples from each cluster\r\n",
        "for cluster in clusters:\r\n",
        "  # get row indexes for samples with this cluster\r\n",
        "  row_ix = where(y_pred == cluster)\r\n",
        "  # create scatter of these samples\r\n",
        "  plt.scatter(x[row_ix, 0], x[row_ix, 1]);\r\n",
        "  "
      ],
      "execution_count": 20,
      "outputs": [
        {
          "output_type": "display_data",
          "data": {
            "image/png": "[encoded data removed]",
            "text/plain": [
              "<Figure size 432x288 with 1 Axes>"
            ]
          },
          "metadata": {
            "tags": [],
            "needs_background": "light"
          }
        }
      ]
    },
    {
      "cell_type": "markdown",
      "metadata": {
        "id": "ZqiFQG6ZAC0V"
      },
      "source": [
        "## **Agglomerative Clustering**"
      ]
    },
    {
      "cell_type": "code",
      "metadata": {
        "colab": {
          "base_uri": "https://localhost:8080/",
          "height": 268
        },
        "id": "9JkAx84A-OS2",
        "outputId": "f5bae844-ddee-41f0-e04f-3f98945ed5b2"
      },
      "source": [
        "from sklearn.cluster import AgglomerativeClustering\r\n",
        "\r\n",
        "#Define model\r\n",
        "model = AgglomerativeClustering(n_clusters = 4)\r\n",
        "\r\n",
        "# fit model and predict clusters\r\n",
        "y_pred = model.fit_predict(x)\r\n",
        "\r\n",
        "# retrive unique cluster\r\n",
        "clusters = unique(y_pred)\r\n",
        "\r\n",
        "# Create scatter plot for the samples from each cluster\r\n",
        "for cluster in clusters:\r\n",
        "  row_ix = where(y_pred == cluster)\r\n",
        "  plt.scatter(x[row_ix, 0], x[row_ix, 1]);"
      ],
      "execution_count": 21,
      "outputs": [
        {
          "output_type": "display_data",
          "data": {
            "image/png": "[encoded data removed]",
            "text/plain": [
              "<Figure size 432x288 with 1 Axes>"
            ]
          },
          "metadata": {
            "tags": [],
            "needs_background": "light"
          }
        }
      ]
    },
    {
      "cell_type": "markdown",
      "metadata": {
        "id": "RdzF8xg2DYKj"
      },
      "source": [
        "## **BIRCH Clustering**\r\n",
        "(Balanced Iterative Reducing and Clustering using\r\n",
        "Hierarchies)"
      ]
    },
    {
      "cell_type": "code",
      "metadata": {
        "colab": {
          "base_uri": "https://localhost:8080/",
          "height": 268
        },
        "id": "nrQ95yIkA5FT",
        "outputId": "3a91549a-5cf7-41a0-c5e7-c3300cb6ec0b"
      },
      "source": [
        "from sklearn.cluster import Birch\r\n",
        "\r\n",
        "# define model\r\n",
        "model = Birch(n_clusters = 4, threshold = 0.1) \r\n",
        "# threshold decided to put the sample or point into the cluster.less threashold finely classified points.\r\n",
        "\r\n",
        "# Fit and Predict\r\n",
        "y_pred = model.fit_predict(x)\r\n",
        "\r\n",
        "# unique cluster\r\n",
        "clusters = unique(y_pred)\r\n",
        "\r\n",
        "# Plot the clusters\r\n",
        "for cluster in clusters:\r\n",
        "  # row index for samples in the cluster\r\n",
        "  row_ix = where(y_pred == cluster)\r\n",
        "  plt.scatter(x[row_ix, 0], x[row_ix, 1]);\r\n"
      ],
      "execution_count": 22,
      "outputs": [
        {
          "output_type": "display_data",
          "data": {
            "image/png": "[encoded data removed]",
            "text/plain": [
              "<Figure size 432x288 with 1 Axes>"
            ]
          },
          "metadata": {
            "tags": [],
            "needs_background": "light"
          }
        }
      ]
    },
    {
      "cell_type": "markdown",
      "metadata": {
        "id": "V_9KPdo4HR_d"
      },
      "source": [
        "##**DBSCAN**\r\n",
        "(Density-Based Spatial Clustering of Applications with Noise)"
      ]
    },
    {
      "cell_type": "code",
      "metadata": {
        "colab": {
          "base_uri": "https://localhost:8080/",
          "height": 268
        },
        "id": "m0nDnVL8FAng",
        "outputId": "143ac5c5-0237-4dd4-add8-eb04edb38dcd"
      },
      "source": [
        "from sklearn.cluster import DBSCAN\r\n",
        "\r\n",
        "# define model\r\n",
        "model = DBSCAN(eps=0.5, min_samples =5)\r\n",
        "\r\n",
        "# fit and Predict\r\n",
        "y_pred = model.fit_predict(x)\r\n",
        "\r\n",
        "# unique cluster\r\n",
        "clusters = unique(y_pred)\r\n",
        "\r\n",
        "# plot clusters\r\n",
        "for cluster in clusters:\r\n",
        "  # define row indexes for samples in the cluster\r\n",
        "  row_ix = where(y_pred == cluster)\r\n",
        "  plt.scatter(x[row_ix,0], x[row_ix, 1])\r\n",
        "  "
      ],
      "execution_count": 26,
      "outputs": [
        {
          "output_type": "display_data",
          "data": {
            "image/png": "[encoded data removed]",
            "text/plain": [
              "<Figure size 432x288 with 1 Axes>"
            ]
          },
          "metadata": {
            "tags": [],
            "needs_background": "light"
          }
        }
      ]
    },
    {
      "cell_type": "code",
      "metadata": {
        "colab": {
          "base_uri": "https://localhost:8080/",
          "height": 391
        },
        "id": "TtiAmbU1H74D",
        "outputId": "f1c8e5ec-6802-466e-ecfc-6040021c2547"
      },
      "source": [
        "plt.figure(figsize = (12, 6))\r\n",
        "plt.scatter(x[y_pred == 0, 0], x[y_pred == 0, 1], s  = 30, c = 'green', label='Iris-Versicolor')\r\n",
        "plt.scatter(x[y_pred == 1, 0], x[y_pred == 1, 1], s  = 30, c = 'red', label='Iris-Sentosa')\r\n",
        "plt.scatter(x[y_pred == 2, 0], x[y_pred == 2, 1], s  = 30, c = 'blue', label='Iris-Virginica')\r\n",
        "plt.xlabel('Sepal Length')\r\n",
        "plt.ylabel('Sepal Width')\r\n",
        "plt.legend();"
      ],
      "execution_count": 24,
      "outputs": [
        {
          "output_type": "display_data",
          "data": {
            "image/png": "[encoded data removed]",
            "text/plain": [
              "<Figure size 864x432 with 1 Axes>"
            ]
          },
          "metadata": {
            "tags": [],
            "needs_background": "light"
          }
        }
      ]
    },
    {
      "cell_type": "markdown",
      "metadata": {
        "id": "CfrAEvAqMVCU"
      },
      "source": [
        "# #**KMeans Clustering**"
      ]
    },
    {
      "cell_type": "code",
      "metadata": {
        "colab": {
          "base_uri": "https://localhost:8080/",
          "height": 268
        },
        "id": "h_6436XqKqjT",
        "outputId": "97573664-b6eb-4f51-fc53-ecfa6a3eab22"
      },
      "source": [
        "# define model\r\n",
        "model = KMeans(n_clusters = 3)\r\n",
        "\r\n",
        "#fit and predict the model\r\n",
        "#model.fit(x)\r\n",
        "y_pred = model.fit_predict(x)\r\n",
        "\r\n",
        "# find the unique clusters\r\n",
        "clusters = unique(y_pred)\r\n",
        "\r\n",
        "for cluster in clusters:\r\n",
        "  # row index to the sample into the stucture\r\n",
        "  row_ix = where(y_pred == cluster)\r\n",
        "\r\n",
        "  #plot graph\r\n",
        "  plt.scatter(x[row_ix, 0], x[row_ix, 1]);"
      ],
      "execution_count": 47,
      "outputs": [
        {
          "output_type": "display_data",
          "data": {
            "image/png": "[encoded data removed]",
            "text/plain": [
              "<Figure size 432x288 with 1 Axes>"
            ]
          },
          "metadata": {
            "tags": [],
            "needs_background": "light"
          }
        }
      ]
    },
    {
      "cell_type": "markdown",
      "metadata": {
        "id": "nVh-Vyk1PDMI"
      },
      "source": [
        "## **Mini Batch KMeans Clustering**"
      ]
    },
    {
      "cell_type": "code",
      "metadata": {
        "colab": {
          "base_uri": "https://localhost:8080/",
          "height": 268
        },
        "id": "ZqEr2jR3N-4c",
        "outputId": "2571ddd8-e72c-4f22-f74e-47d1bca9f8cf"
      },
      "source": [
        "from sklearn.cluster import MiniBatchKMeans \r\n",
        "\r\n",
        "# define model\r\n",
        "model = MiniBatchKMeans(n_clusters = 3)\r\n",
        "\r\n",
        "# fit and predict model\r\n",
        "model.fit(x)\r\n",
        "y_pred = model.predict(x)\r\n",
        "\r\n",
        "#unique clustur\r\n",
        "clusters = unique(y_pred)\r\n",
        "\r\n",
        "for cluster in clusters:\r\n",
        "  # row index to the samples in clusters\r\n",
        "  row_ix = where(y_pred == cluster)\r\n",
        "\r\n",
        "  #plot \r\n",
        "  plt.scatter(x[row_ix, 0], x[row_ix, 1])\r\n"
      ],
      "execution_count": 44,
      "outputs": [
        {
          "output_type": "display_data",
          "data": {
            "image/png": "[encoded data removed]",
            "text/plain": [
              "<Figure size 432x288 with 1 Axes>"
            ]
          },
          "metadata": {
            "tags": [],
            "needs_background": "light"
          }
        }
      ]
    },
    {
      "cell_type": "markdown",
      "metadata": {
        "id": "QPXwfXXlR2uE"
      },
      "source": [
        "### **MeanShift**"
      ]
    },
    {
      "cell_type": "code",
      "metadata": {
        "colab": {
          "base_uri": "https://localhost:8080/",
          "height": 268
        },
        "id": "B7O6S0tPRXyf",
        "outputId": "7e703146-e01a-4807-9988-897feda3439f"
      },
      "source": [
        "from sklearn.cluster import MeanShift\r\n",
        "model = MeanShift()\r\n",
        "y_pred = model.fit_predict(x)\r\n",
        "clusters = unique(y_pred)\r\n",
        "for cluster in clusters:\r\n",
        "  row_ix = where(y_pred == cluster)\r\n",
        "  plt.scatter(x[row_ix, 0], x[row_ix, 1])"
      ],
      "execution_count": 49,
      "outputs": [
        {
          "output_type": "display_data",
          "data": {
            "image/png": "[encoded data removed]",
            "text/plain": [
              "<Figure size 432x288 with 1 Axes>"
            ]
          },
          "metadata": {
            "tags": [],
            "needs_background": "light"
          }
        }
      ]
    },
    {
      "cell_type": "markdown",
      "metadata": {
        "id": "YDZBzQE1TdCh"
      },
      "source": [
        "## **OPTICS**\r\n",
        "(Ordering Points To Identify the Clustering Structure)"
      ]
    },
    {
      "cell_type": "code",
      "metadata": {
        "colab": {
          "base_uri": "https://localhost:8080/",
          "height": 268
        },
        "id": "10UD7xXvS-Lq",
        "outputId": "638ed87d-a0d0-4804-c068-3727dedc333f"
      },
      "source": [
        "from sklearn.cluster import OPTICS\r\n",
        "model = OPTICS(eps= 0.8, min_samples=10)\r\n",
        "y_pred = model.fit_predict(x)\r\n",
        "clusters = unique(y_pred)\r\n",
        "for cluster in clusters:\r\n",
        "  row_ix = where(y_pred == cluster)\r\n",
        "  plt.scatter(x[row_ix, 0], x[row_ix, 1])\r\n"
      ],
      "execution_count": 52,
      "outputs": [
        {
          "output_type": "display_data",
          "data": {
            "image/png": "[encoded data removed]",
            "text/plain": [
              "<Figure size 432x288 with 1 Axes>"
            ]
          },
          "metadata": {
            "tags": [],
            "needs_background": "light"
          }
        }
      ]
    },
    {
      "cell_type": "markdown",
      "metadata": {
        "id": "eQSEpSQDUfwp"
      },
      "source": [
        "### **Spectral Clustering**"
      ]
    },
    {
      "cell_type": "code",
      "metadata": {
        "colab": {
          "base_uri": "https://localhost:8080/",
          "height": 268
        },
        "id": "5EIP-_W_UTFt",
        "outputId": "0308a83f-a3d2-4bb9-9226-3460b73cc675"
      },
      "source": [
        "from sklearn.cluster import SpectralClustering\r\n",
        "model = SpectralClustering(n_clusters = 3)\r\n",
        "y_pred = model.fit_predict(x)\r\n",
        "clusters = unique(y_pred)\r\n",
        "for cluster in clusters:\r\n",
        "  row_ix = where(y_pred == cluster)\r\n",
        "  plt.scatter(x[row_ix, 0], x[row_ix, 1])"
      ],
      "execution_count": 53,
      "outputs": [
        {
          "output_type": "display_data",
          "data": {
            "image/png": "[encoded data removed]",
            "text/plain": [
              "<Figure size 432x288 with 1 Axes>"
            ]
          },
          "metadata": {
            "tags": [],
            "needs_background": "light"
          }
        }
      ]
    },
    {
      "cell_type": "markdown",
      "metadata": {
        "id": "vxRRzf38VjZq"
      },
      "source": [
        "### **Gaussian Mixture Model**"
      ]
    },
    {
      "cell_type": "code",
      "metadata": {
        "colab": {
          "base_uri": "https://localhost:8080/",
          "height": 268
        },
        "id": "4i7CeVYbVZTI",
        "outputId": "9021bca9-23bb-4a47-b380-de9161adf310"
      },
      "source": [
        "from sklearn.mixture import GaussianMixture\r\n",
        "model = GaussianMixture(n_components=3)\r\n",
        "y_pred = model.fit_predict(x)\r\n",
        "clusters = unique(y_pred)\r\n",
        "for cluster in clusters:\r\n",
        "  row_ix = where(y_pred == cluster)\r\n",
        "  plt.scatter(x[row_ix, 0], x[row_ix, 1])\r\n"
      ],
      "execution_count": 60,
      "outputs": [
        {
          "output_type": "display_data",
          "data": {
            "image/png": "[encoded data removed]",
            "text/plain": [
              "<Figure size 432x288 with 1 Axes>"
            ]
          },
          "metadata": {
            "tags": [],
            "needs_background": "light"
          }
        }
      ]
    },
    {
      "cell_type": "code",
      "metadata": {
        "id": "2AyvN0F4W1dn"
      },
      "source": [
        ""
      ],
      "execution_count": null,
      "outputs": []
    }
  ]
}