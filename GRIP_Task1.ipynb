{
  "nbformat": 4,
  "nbformat_minor": 0,
  "metadata": {
    "colab": {
      "name": "GRIP_Task1.ipynb",
      "provenance": [],
      "collapsed_sections": []
    },
    "kernelspec": {
      "name": "python3",
      "display_name": "Python 3"
    }
  },
  "cells": [
    {
      "cell_type": "markdown",
      "metadata": {
        "id": "PRBbPKDLWxtT"
      },
      "source": [
        "## **Prediction using Supervised ML**\r\n",
        "(Level - Beginner) \r\n",
        "\r\n",
        "● Predict the percentage of an student based on the no. of study hours.\r\n",
        "\r\n",
        "● This is a simple linear regression task as it involves just 2 variables.\r\n",
        "\r\n",
        "● You can use R, Python, SAS Enterprise Miner or any other tool\r\n",
        "\r\n",
        "● Data can be found at http://bit.ly/w-data\r\n",
        "\r\n",
        "● What will be predicted score if a student studies for 9.25 hrs"
      ]
    },
    {
      "cell_type": "code",
      "metadata": {
        "id": "fMGtbi7urn8X"
      },
      "source": [
        "# Import libraries\r\n",
        "import numpy as np\r\n",
        "import pandas as pd\r\n",
        "from sklearn import linear_model\r\n",
        "import matplotlib.pyplot as plt\r\n"
      ],
      "execution_count": null,
      "outputs": []
    },
    {
      "cell_type": "code",
      "metadata": {
        "colab": {
          "base_uri": "https://localhost:8080/",
          "height": 204
        },
        "id": "SNYgevIatuhn",
        "outputId": "3d05cecd-dc25-4586-f7c7-7865c733cf47"
      },
      "source": [
        "# import data\r\n",
        "data = pd.read_csv('/student_scores - student_scores.csv')\r\n",
        "data.head()"
      ],
      "execution_count": null,
      "outputs": [
        {
          "output_type": "execute_result",
          "data": {
            "text/html": [
              "<div>\n",
              "<style scoped>\n",
              "    .dataframe tbody tr th:only-of-type {\n",
              "        vertical-align: middle;\n",
              "    }\n",
              "\n",
              "    .dataframe tbody tr th {\n",
              "        vertical-align: top;\n",
              "    }\n",
              "\n",
              "    .dataframe thead th {\n",
              "        text-align: right;\n",
              "    }\n",
              "</style>\n",
              "<table border=\"1\" class=\"dataframe\">\n",
              "  <thead>\n",
              "    <tr style=\"text-align: right;\">\n",
              "      <th></th>\n",
              "      <th>Hours</th>\n",
              "      <th>Scores</th>\n",
              "    </tr>\n",
              "  </thead>\n",
              "  <tbody>\n",
              "    <tr>\n",
              "      <th>0</th>\n",
              "      <td>2.5</td>\n",
              "      <td>21</td>\n",
              "    </tr>\n",
              "    <tr>\n",
              "      <th>1</th>\n",
              "      <td>5.1</td>\n",
              "      <td>47</td>\n",
              "    </tr>\n",
              "    <tr>\n",
              "      <th>2</th>\n",
              "      <td>3.2</td>\n",
              "      <td>27</td>\n",
              "    </tr>\n",
              "    <tr>\n",
              "      <th>3</th>\n",
              "      <td>8.5</td>\n",
              "      <td>75</td>\n",
              "    </tr>\n",
              "    <tr>\n",
              "      <th>4</th>\n",
              "      <td>3.5</td>\n",
              "      <td>30</td>\n",
              "    </tr>\n",
              "  </tbody>\n",
              "</table>\n",
              "</div>"
            ],
            "text/plain": [
              "   Hours  Scores\n",
              "0    2.5      21\n",
              "1    5.1      47\n",
              "2    3.2      27\n",
              "3    8.5      75\n",
              "4    3.5      30"
            ]
          },
          "metadata": {
            "tags": []
          },
          "execution_count": 56
        }
      ]
    },
    {
      "cell_type": "code",
      "metadata": {
        "colab": {
          "base_uri": "https://localhost:8080/"
        },
        "id": "XygLxz_i2L-w",
        "outputId": "855f8b60-989e-4f0d-aeba-9e65b584699c"
      },
      "source": [
        "# Checking size of data\r\n",
        "data.shape"
      ],
      "execution_count": null,
      "outputs": [
        {
          "output_type": "execute_result",
          "data": {
            "text/plain": [
              "(25, 2)"
            ]
          },
          "metadata": {
            "tags": []
          },
          "execution_count": 58
        }
      ]
    },
    {
      "cell_type": "markdown",
      "metadata": {
        "id": "tkWfLazZvkaU"
      },
      "source": [
        "# **Predict the percentage of an student based on the no. of study hours.**"
      ]
    },
    {
      "cell_type": "code",
      "metadata": {
        "id": "PAwdTy1b1UUQ"
      },
      "source": [
        "# Variable x and y\r\n",
        "x = data.iloc[:,:1]\r\n",
        "y = data.iloc[:,-1:]"
      ],
      "execution_count": null,
      "outputs": []
    },
    {
      "cell_type": "code",
      "metadata": {
        "colab": {
          "base_uri": "https://localhost:8080/"
        },
        "id": "J-8Ie9uKuS-x",
        "outputId": "3ce93af7-44f2-4b99-86bd-6ea86fb5e4e1"
      },
      "source": [
        "# Linear Regression\r\n",
        "linreg = linear_model.LinearRegression()"
      ],
      "execution_count": null,
      "outputs": [
        {
          "output_type": "execute_result",
          "data": {
            "text/plain": [
              "LinearRegression(copy_X=True, fit_intercept=True, n_jobs=None, normalize=False)"
            ]
          },
          "metadata": {
            "tags": []
          },
          "execution_count": 55
        }
      ]
    },
    {
      "cell_type": "code",
      "metadata": {
        "colab": {
          "base_uri": "https://localhost:8080/"
        },
        "id": "QxANMWdK4SZy",
        "outputId": "2bee7db9-d49f-48bb-acfb-0d63723e8fe4"
      },
      "source": [
        "# fit the data in regression\r\n",
        "linreg.fit(x, y)"
      ],
      "execution_count": null,
      "outputs": [
        {
          "output_type": "execute_result",
          "data": {
            "text/plain": [
              "LinearRegression(copy_X=True, fit_intercept=True, n_jobs=None, normalize=False)"
            ]
          },
          "metadata": {
            "tags": []
          },
          "execution_count": 68
        }
      ]
    },
    {
      "cell_type": "code",
      "metadata": {
        "id": "q1X2YB3CuhlE",
        "colab": {
          "base_uri": "https://localhost:8080/"
        },
        "outputId": "8a8bdb25-ae8e-48b4-c0c1-e668b1636de5"
      },
      "source": [
        "# predict the hours\r\n",
        "data_y_pred = linreg.predict(x)\r\n",
        "data_y_pred"
      ],
      "execution_count": null,
      "outputs": [
        {
          "output_type": "execute_result",
          "data": {
            "text/plain": [
              "array([[26.92318188],\n",
              "       [52.3402707 ],\n",
              "       [33.76624426],\n",
              "       [85.57800223],\n",
              "       [36.69898527],\n",
              "       [17.14737849],\n",
              "       [92.4210646 ],\n",
              "       [56.25059205],\n",
              "       [83.62284155],\n",
              "       [28.87834256],\n",
              "       [77.75735951],\n",
              "       [60.16091341],\n",
              "       [46.47478866],\n",
              "       [34.74382459],\n",
              "       [13.23705714],\n",
              "       [89.48832358],\n",
              "       [26.92318188],\n",
              "       [21.05769985],\n",
              "       [62.11607409],\n",
              "       [74.8246185 ],\n",
              "       [28.87834256],\n",
              "       [49.40752968],\n",
              "       [39.63172629],\n",
              "       [69.9367168 ],\n",
              "       [78.73493985]])"
            ]
          },
          "metadata": {
            "tags": []
          },
          "execution_count": 67
        }
      ]
    },
    {
      "cell_type": "code",
      "metadata": {
        "colab": {
          "base_uri": "https://localhost:8080/",
          "height": 282
        },
        "id": "qmJoMtZYxDdv",
        "outputId": "17057d1e-74b3-476f-da60-a3844eabcfda"
      },
      "source": [
        "# Visualization\r\n",
        "plt.scatter(x,y,  color='black')\r\n",
        "plt.plot(x, data_y_pred, color='blue', linewidth=3)\r\n"
      ],
      "execution_count": null,
      "outputs": [
        {
          "output_type": "execute_result",
          "data": {
            "text/plain": [
              "[<matplotlib.lines.Line2D at 0x7f6e53e18358>]"
            ]
          },
          "metadata": {
            "tags": []
          },
          "execution_count": 66
        },
        {
          "output_type": "display_data",
          "data": {
            "image/png": "[encoded data removed]",
            "text/plain": [
              "<Figure size 432x288 with 1 Axes>"
            ]
          },
          "metadata": {
            "tags": [],
            "needs_background": "light"
          }
        }
      ]
    },
    {
      "cell_type": "markdown",
      "metadata": {
        "id": "gSA9ighj4r-r"
      },
      "source": [
        "## **What will be predicted score if a student studies for 9.25 hrs/ day?**"
      ]
    },
    {
      "cell_type": "code",
      "metadata": {
        "colab": {
          "base_uri": "https://localhost:8080/"
        },
        "id": "l1fe3e150IyR",
        "outputId": "195717d0-9228-4c59-8ce0-e3bd6a38e93f"
      },
      "source": [
        "linreg.predict([[9.25]])"
      ],
      "execution_count": null,
      "outputs": [
        {
          "output_type": "execute_result",
          "data": {
            "text/plain": [
              "array([[92.90985477]])"
            ]
          },
          "metadata": {
            "tags": []
          },
          "execution_count": 74
        }
      ]
    },
    {
      "cell_type": "markdown",
      "metadata": {
        "id": "9jalyxWa-wYX"
      },
      "source": [
        "It predicted Students could be score **92.90** , if the a student studies for 9.25 hrs/day."
      ]
    },
    {
      "cell_type": "code",
      "metadata": {
        "id": "3N6Hbw085FBP"
      },
      "source": [
        ""
      ],
      "execution_count": null,
      "outputs": []
    }
  ]
}