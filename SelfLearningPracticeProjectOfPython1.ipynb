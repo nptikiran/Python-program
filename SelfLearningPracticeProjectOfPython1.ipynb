{
  "nbformat": 4,
  "nbformat_minor": 0,
  "metadata": {
    "kernelspec": {
      "display_name": "Python 3",
      "language": "python",
      "name": "python3"
    },
    "language_info": {
      "codemirror_mode": {
        "name": "ipython",
        "version": 3
      },
      "file_extension": ".py",
      "mimetype": "text/x-python",
      "name": "python",
      "nbconvert_exporter": "python",
      "pygments_lexer": "ipython3",
      "version": "3.7.4"
    },
    "colab": {
      "name": "SelfLearningPracticeProjectOfPython1.ipynb",
      "provenance": [],
      "include_colab_link": true
    }
  },
  "cells": [
    {
      "cell_type": "markdown",
      "metadata": {
        "id": "view-in-github",
        "colab_type": "text"
      },
      "source": [
        "<a href=\"https://colab.research.google.com/github/nptikiran/Python-program/blob/main/SelfLearningPracticeProjectOfPython1.ipynb\" target=\"_parent\"><img src=\"https://colab.research.google.com/assets/colab-badge.svg\" alt=\"Open In Colab\"/></a>"
      ]
    },
    {
      "cell_type": "code",
      "metadata": {
        "id": "WidX2uJeDG2m"
      },
      "source": [
        "import numpy as np"
      ],
      "execution_count": null,
      "outputs": []
    },
    {
      "cell_type": "code",
      "metadata": {
        "id": "pYvH9k9HDG2s"
      },
      "source": [
        "df1 = ['Algeria','Angola','Argentina','Australia','Austria','Bahamas',\n",
        "       'Bangladesh','Belarus','Belgium','Bhutan','Brazil','Bulgaria',\n",
        "       'Cambodia','Cameroon','Chile','China','Colombia','Cyprus','Denmark',\n",
        "       'El Salvador','Estonia','Ethiopia','Fiji','Finland','France','Georgia',\n",
        "       'Ghana','Grenada','Guinea','Haiti','Honduras','Hungary','India','Indonesia',\n",
        "       'Ireland','Italy','Japan','Kenya', 'South Korea','Liberia','Malaysia',\n",
        "       'Mexico', 'Morocco','Nepal','New Zealand','Norway','Pakistan', 'Peru',\n",
        "       'Qatar','Russia','Singapore','South Africa','Spain','Sweden','Switzerland',\n",
        "       'Thailand', 'United Arab Emirates','United Kingdom','United States','Uruguay',\n",
        "       'Venezuela','Vietnam','Zimbabwe'\n",
        "       ]"
      ],
      "execution_count": null,
      "outputs": []
    },
    {
      "cell_type": "code",
      "metadata": {
        "id": "xRTQ2_hrDG2t"
      },
      "source": [
        "df2 = [2255.225482,629.9553062,11601.63022,25306.82494,27266.40335,19466.99052,\n",
        "       588.3691778,2890.345675,24733.62696,1445.760002,4803.398244,2618.876037,\n",
        "       590.4521124,665.7982328,7122.938458,2639.54156,3362.4656,15378.16704,30860.12808,\n",
        "       2579.115607,6525.541272,229.6769525,2242.689259,27570.4852,23016.84778,1334.646773,\n",
        "       402.6953275,6047.200797,394.1156638,385.5793827,1414.072488,5745.981529,837.7464011,\n",
        "       1206.991065,27715.52837,18937.24998,39578.07441,478.2194906,16684.21278,279.2204061,\n",
        "       5345.213415,6288.25324,1908.304416,274.8728621,14646.42094,40034.85063,672.1547506,\n",
        "       3359.517402,36152.66676,3054.727742,33529.83052,3825.093781,15428.32098,33630.24604,\n",
        "       39170.41371,2699.123242,21058.43643,28272.40661,37691.02733,9581.05659,5671.912202,\n",
        "       757.4009286,347.7456605]"
      ],
      "execution_count": null,
      "outputs": []
    },
    {
      "cell_type": "code",
      "metadata": {
        "id": "FCvx_a-IDG2t"
      },
      "source": [
        "df3 = zip(df2, df1)"
      ],
      "execution_count": null,
      "outputs": []
    },
    {
      "cell_type": "code",
      "metadata": {
        "id": "PcFEbH2fDG2t",
        "outputId": "0c04a293-f13c-4552-8cb6-10a9e6b0bc77"
      },
      "source": [
        "type(df3)"
      ],
      "execution_count": null,
      "outputs": [
        {
          "output_type": "execute_result",
          "data": {
            "text/plain": [
              "zip"
            ]
          },
          "metadata": {
            "tags": []
          },
          "execution_count": 5
        }
      ]
    },
    {
      "cell_type": "code",
      "metadata": {
        "id": "EG-lkMo6DG2u"
      },
      "source": [
        "a = list(df3)"
      ],
      "execution_count": null,
      "outputs": []
    },
    {
      "cell_type": "code",
      "metadata": {
        "id": "CpGDqWQNDG2u",
        "outputId": "cbdc4912-9f40-456c-e40a-14eb552cad6c"
      },
      "source": [
        "a"
      ],
      "execution_count": null,
      "outputs": [
        {
          "output_type": "execute_result",
          "data": {
            "text/plain": [
              "[(2255.225482, 'Algeria'),\n",
              " (629.9553062, 'Angola'),\n",
              " (11601.63022, 'Argentina'),\n",
              " (25306.82494, 'Australia'),\n",
              " (27266.40335, 'Austria'),\n",
              " (19466.99052, 'Bahamas'),\n",
              " (588.3691778, 'Bangladesh'),\n",
              " (2890.345675, 'Belarus'),\n",
              " (24733.62696, 'Belgium'),\n",
              " (1445.760002, 'Bhutan'),\n",
              " (4803.398244, 'Brazil'),\n",
              " (2618.876037, 'Bulgaria'),\n",
              " (590.4521124, 'Cambodia'),\n",
              " (665.7982328, 'Cameroon'),\n",
              " (7122.938458, 'Chile'),\n",
              " (2639.54156, 'China'),\n",
              " (3362.4656, 'Colombia'),\n",
              " (15378.16704, 'Cyprus'),\n",
              " (30860.12808, 'Denmark'),\n",
              " (2579.115607, 'El Salvador'),\n",
              " (6525.541272, 'Estonia'),\n",
              " (229.6769525, 'Ethiopia'),\n",
              " (2242.689259, 'Fiji'),\n",
              " (27570.4852, 'Finland'),\n",
              " (23016.84778, 'France'),\n",
              " (1334.646773, 'Georgia'),\n",
              " (402.6953275, 'Ghana'),\n",
              " (6047.200797, 'Grenada'),\n",
              " (394.1156638, 'Guinea'),\n",
              " (385.5793827, 'Haiti'),\n",
              " (1414.072488, 'Honduras'),\n",
              " (5745.981529, 'Hungary'),\n",
              " (837.7464011, 'India'),\n",
              " (1206.991065, 'Indonesia'),\n",
              " (27715.52837, 'Ireland'),\n",
              " (18937.24998, 'Italy'),\n",
              " (39578.07441, 'Japan'),\n",
              " (478.2194906, 'Kenya'),\n",
              " (16684.21278, 'South Korea'),\n",
              " (279.2204061, 'Liberia'),\n",
              " (5345.213415, 'Malaysia'),\n",
              " (6288.25324, 'Mexico'),\n",
              " (1908.304416, 'Morocco'),\n",
              " (274.8728621, 'Nepal'),\n",
              " (14646.42094, 'New Zealand'),\n",
              " (40034.85063, 'Norway'),\n",
              " (672.1547506, 'Pakistan'),\n",
              " (3359.517402, 'Peru'),\n",
              " (36152.66676, 'Qatar'),\n",
              " (3054.727742, 'Russia'),\n",
              " (33529.83052, 'Singapore'),\n",
              " (3825.093781, 'South Africa'),\n",
              " (15428.32098, 'Spain'),\n",
              " (33630.24604, 'Sweden'),\n",
              " (39170.41371, 'Switzerland'),\n",
              " (2699.123242, 'Thailand'),\n",
              " (21058.43643, 'United Arab Emirates'),\n",
              " (28272.40661, 'United Kingdom'),\n",
              " (37691.02733, 'United States'),\n",
              " (9581.05659, 'Uruguay'),\n",
              " (5671.912202, 'Venezuela'),\n",
              " (757.4009286, 'Vietnam'),\n",
              " (347.7456605, 'Zimbabwe')]"
            ]
          },
          "metadata": {
            "tags": []
          },
          "execution_count": 7
        }
      ]
    },
    {
      "cell_type": "code",
      "metadata": {
        "id": "mfNgu5iZDG2v",
        "outputId": "9889ad91-9f85-4a11-a931-3ca2c10bba8f"
      },
      "source": [
        "print(\"Countries with Highest GDP : \",max(a))"
      ],
      "execution_count": null,
      "outputs": [
        {
          "output_type": "stream",
          "text": [
            "Countries with Highest GDP :  (40034.85063, 'Norway')\n"
          ],
          "name": "stdout"
        }
      ]
    },
    {
      "cell_type": "code",
      "metadata": {
        "id": "1InLnhc3DG2v",
        "outputId": "41ea720d-d9db-4805-d719-f05b4fb77cad"
      },
      "source": [
        "print(\"Countries with Lowest GDP : \",min(a))"
      ],
      "execution_count": null,
      "outputs": [
        {
          "output_type": "stream",
          "text": [
            "Countries with Lowest GDP :  (229.6769525, 'Ethiopia')\n"
          ],
          "name": "stdout"
        }
      ]
    },
    {
      "cell_type": "code",
      "metadata": {
        "id": "DVxJlK1uDG2w",
        "outputId": "529ffd6d-189d-4349-dab0-20599a2bcd41"
      },
      "source": [
        "min(df2)"
      ],
      "execution_count": null,
      "outputs": [
        {
          "output_type": "execute_result",
          "data": {
            "text/plain": [
              "229.6769525"
            ]
          },
          "metadata": {
            "tags": []
          },
          "execution_count": 20
        }
      ]
    },
    {
      "cell_type": "code",
      "metadata": {
        "id": "YwM_EWyqDG2x",
        "outputId": "21aa16ad-a0f8-47f2-b50d-30bdaf384cbf"
      },
      "source": [
        "max(df2)"
      ],
      "execution_count": null,
      "outputs": [
        {
          "output_type": "execute_result",
          "data": {
            "text/plain": [
              "40034.85063"
            ]
          },
          "metadata": {
            "tags": []
          },
          "execution_count": 21
        }
      ]
    },
    {
      "cell_type": "code",
      "metadata": {
        "id": "rs6nwfkHDG2x",
        "outputId": "8f66c5bf-a47b-4bf3-d082-07f5ddd063b2"
      },
      "source": [
        "print('Mean of GDP value :',np.mean(df2))"
      ],
      "execution_count": null,
      "outputs": [
        {
          "output_type": "stream",
          "text": [
            "Mean of GDP value : 11289.409271639683\n"
          ],
          "name": "stdout"
        }
      ]
    },
    {
      "cell_type": "code",
      "metadata": {
        "id": "Qbdi9l5dDG2x",
        "outputId": "ec3daa1e-329e-4446-9caf-d57476094515"
      },
      "source": [
        "print('standardized GDP value :',np.std(df2))"
      ],
      "execution_count": null,
      "outputs": [
        {
          "output_type": "stream",
          "text": [
            "standardized GDP value : 12743.828910617945\n"
          ],
          "name": "stdout"
        }
      ]
    },
    {
      "cell_type": "code",
      "metadata": {
        "id": "k1CgHlKmDG2y",
        "outputId": "6cbf3550-a55b-4813-8cfa-e27108db23a3"
      },
      "source": [
        "print('sum of all GDP value :',np.sum(df2))"
      ],
      "execution_count": null,
      "outputs": [
        {
          "output_type": "stream",
          "text": [
            "sum of all GDP value : 711232.7841133\n"
          ],
          "name": "stdout"
        }
      ]
    },
    {
      "cell_type": "code",
      "metadata": {
        "id": "Wqu7MtePDG2y"
      },
      "source": [
        ""
      ],
      "execution_count": null,
      "outputs": []
    }
  ]
}